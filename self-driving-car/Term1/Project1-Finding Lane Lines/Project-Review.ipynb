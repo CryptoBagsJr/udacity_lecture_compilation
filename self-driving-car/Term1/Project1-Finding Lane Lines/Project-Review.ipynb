{
 "cells": [
  {
   "cell_type": "markdown",
   "metadata": {},
   "source": [
    "# Meets Specification"
   ]
  },
  {
   "cell_type": "markdown",
   "metadata": {},
   "source": [
    "Really nice job with this submission. Your project meets all the specifications. Congratulations on passing the first project in the Self Driving Car Nanodegree on your very first attempt and best of lucks in the ones ahead.\n",
    "Cheers and Keep up the good work !!!\n",
    "\n",
    "Here are some links for further improvements:\n",
    "- https://www.youtube.com/watch?v=hnXkCiM2RSg&feature=youtu.be\n",
    "- https://www.python.org/dev/peps/pep-0008/\n",
    "- http://stackoverflow.com/questions/36598897/python-and-opencv-improving-my-lane-detection-algorithm"
   ]
  },
  {
   "cell_type": "markdown",
   "metadata": {},
   "source": [
    "## Suggestions & Comments\n",
    "\n",
    "- To center even more your annotations on the actual lane lines, I recommend you try tuning the values of your parameters especially the ```threshold``` , ```min_line_length``` and ```max_line_gap```.\n",
    "- Examine the parameters by modifying them separately. That will allow you to identify how each parameter affects the lane line. For example:\n",
    "    - ```max_line_gap``` defines the maximum distance between segments that will be connected to a single line.\n",
    "    - ```min_line_len``` defines the minimum length of a line that will be created.\n",
    "- Increasing these parameters will create smoother and longer lines\n",
    "    - ```threshold``` defines the minimum number of intersections in a given grid cell that are required to choose a line.\n",
    "- Increasing this parameter, the filter will choose longer lines and ignore short lines.\n",
    "- These resources ( 1 & 2 & 3 ) might provide further intuition on the subject here"
   ]
  },
  {
   "cell_type": "markdown",
   "metadata": {},
   "source": [
    "### Visually, the left and right lane lines are accurately annotated by solid lines throughout most of the video.\n",
    "- Here's an algorithm of the process\n",
    "\n",
    "<img src=\"project-preview1.jpg\">"
   ]
  },
  {
   "cell_type": "markdown",
   "metadata": {},
   "source": [
    "## Suggestion\n",
    "- As far as curves are concerned on the challenge video, I will encourage you to read this documentation:\n",
    "http://airccj.org/CSCP/vol5/csit53211.pdf"
   ]
  },
  {
   "cell_type": "code",
   "execution_count": null,
   "metadata": {
    "collapsed": true
   },
   "outputs": [],
   "source": []
  }
 ],
 "metadata": {
  "kernelspec": {
   "display_name": "Python 3",
   "language": "python",
   "name": "python3"
  },
  "language_info": {
   "codemirror_mode": {
    "name": "ipython",
    "version": 3
   },
   "file_extension": ".py",
   "mimetype": "text/x-python",
   "name": "python",
   "nbconvert_exporter": "python",
   "pygments_lexer": "ipython3",
   "version": "3.6.2"
  }
 },
 "nbformat": 4,
 "nbformat_minor": 2
}
