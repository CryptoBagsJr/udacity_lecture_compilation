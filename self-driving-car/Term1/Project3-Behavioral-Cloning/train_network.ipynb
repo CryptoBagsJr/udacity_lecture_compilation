{
 "cells": [
  {
   "cell_type": "code",
   "execution_count": 1,
   "metadata": {
    "collapsed": true
   },
   "outputs": [],
   "source": [
    "import csv\n",
    "import cv2\n",
    "import numpy as np\n",
    "\n",
    "lines = []\n",
    "with open('data/driving_log.csv') as csvfile:\n",
    "    reader = csv.reader(csvfile)\n",
    "    for line in reader:\n",
    "        lines.append(line)"
   ]
  },
  {
   "cell_type": "code",
   "execution_count": 2,
   "metadata": {
    "collapsed": true
   },
   "outputs": [],
   "source": [
    "images = []\n",
    "measurements = []\n",
    "\n",
    "# Correction factor\n",
    "correction = 0.2\n",
    "\n",
    "for line in lines:\n",
    "    steering_center = float(line[3])\n",
    "\n",
    "    for i in range(3):\n",
    "        source_path = line[i]\n",
    "        filename = source_path.split('/')[-1]\n",
    "        current_path = 'data/IMG/' + filename\n",
    "#     print(current_path)\n",
    "        image = cv2.imread(current_path)\n",
    "        images.append(image)\n",
    "#     print(measurement)\n",
    "        if i == 0:\n",
    "            measurements.append(steering_center)\n",
    "        elif i == 1:\n",
    "            measurements.append(steering_center + correction)  # streering_left\n",
    "        elif i == 2:\n",
    "            measurements.append(steering_center - correction) # steering_right\n",
    "    "
   ]
  },
  {
   "cell_type": "code",
   "execution_count": 3,
   "metadata": {
    "collapsed": true
   },
   "outputs": [],
   "source": [
    "# Data Augmentation\n",
    "augmented_images, augmented_measurements = [], []\n",
    "for image, measurement in zip(images, measurements):\n",
    "    augmented_images.append(image)\n",
    "    augmented_measurements.append(measurement)\n",
    "    # Flip the images\n",
    "    augmented_images.append(cv2.flip(image, 1))\n",
    "    # change the direction of the measurement\n",
    "    augmented_measurements.append(measurement*-1.0)"
   ]
  },
  {
   "cell_type": "code",
   "execution_count": 4,
   "metadata": {
    "collapsed": true
   },
   "outputs": [],
   "source": [
    "\n",
    "\n",
    "X_train = np.array(augmented_images)\n",
    "y_train = np.array(augmented_measurements)\n"
   ]
  },
  {
   "cell_type": "code",
   "execution_count": 5,
   "metadata": {},
   "outputs": [
    {
     "data": {
      "text/plain": [
       "(14016, 160, 320, 3)"
      ]
     },
     "execution_count": 5,
     "metadata": {},
     "output_type": "execute_result"
    }
   ],
   "source": [
    "X_train.shape"
   ]
  },
  {
   "cell_type": "code",
   "execution_count": 6,
   "metadata": {},
   "outputs": [
    {
     "data": {
      "text/plain": [
       "(14016,)"
      ]
     },
     "execution_count": 6,
     "metadata": {},
     "output_type": "execute_result"
    }
   ],
   "source": [
    "y_train.shape"
   ]
  },
  {
   "cell_type": "code",
   "execution_count": 9,
   "metadata": {},
   "outputs": [],
   "source": [
    "from keras.models import Sequential\n",
    "from keras.layers import Flatten, Dense, Lambda\n",
    "from keras.layers import Conv2D, MaxPool2D\n",
    "from keras.layers import Cropping2D"
   ]
  },
  {
   "cell_type": "code",
   "execution_count": 13,
   "metadata": {},
   "outputs": [
    {
     "name": "stderr",
     "output_type": "stream",
     "text": [
      "/anaconda/envs/tensorflow/lib/python3.5/site-packages/ipykernel_launcher.py:8: UserWarning: Update your `Conv2D` call to the Keras 2 API: `Conv2D(24, (5, 5), activation=\"relu\", strides=(2, 2))`\n",
      "  \n",
      "/anaconda/envs/tensorflow/lib/python3.5/site-packages/ipykernel_launcher.py:9: UserWarning: Update your `Conv2D` call to the Keras 2 API: `Conv2D(36, (5, 5), activation=\"relu\", strides=(2, 2))`\n",
      "  if __name__ == '__main__':\n",
      "/anaconda/envs/tensorflow/lib/python3.5/site-packages/ipykernel_launcher.py:10: UserWarning: Update your `Conv2D` call to the Keras 2 API: `Conv2D(48, (5, 5), activation=\"relu\", strides=(2, 2))`\n",
      "  # Remove the CWD from sys.path while we load stuff.\n"
     ]
    },
    {
     "name": "stdout",
     "output_type": "stream",
     "text": [
      "Train on 11212 samples, validate on 2804 samples\n",
      "Epoch 1/5\n",
      "11212/11212 [==============================] - 124s - loss: 0.0253 - val_loss: 0.0521\n",
      "Epoch 2/5\n",
      "11212/11212 [==============================] - 122s - loss: 0.0184 - val_loss: 0.0487\n",
      "Epoch 3/5\n",
      "11212/11212 [==============================] - 122s - loss: 0.0156 - val_loss: 0.0489\n",
      "Epoch 4/5\n",
      "11212/11212 [==============================] - 124s - loss: 0.0134 - val_loss: 0.0490\n",
      "Epoch 5/5\n",
      "11212/11212 [==============================] - 119s - loss: 0.0119 - val_loss: 0.0446\n"
     ]
    }
   ],
   "source": [
    "model = Sequential()\n",
    "# normalize the input data\n",
    "model.add(Lambda(lambda x: x / 255.0 - 0.5, input_shape=(160, 320, 3)))\n",
    "\n",
    "# Cropping the top 70 top pixels and 25 bottom pixels.\n",
    "model.add(Cropping2D(cropping=((70, 25), (0, 0))))\n",
    "\n",
    "model.add(Conv2D(24, (5, 5), strides=(2,2), activation='relu'))\n",
    "model.add(Conv2D(36, (5, 5), strides=(2,2), activation='relu'))\n",
    "model.add(Conv2D(48, (5, 5), strides=(2,2), activation='relu'))\n",
    "model.add(Conv2D(64, (3, 3), activation='relu'))\n",
    "model.add(Conv2D(64, (3, 3), activation='relu'))\n",
    "model.add(Flatten())\n",
    "model.add(Dense(100))\n",
    "model.add(Dense(50))\n",
    "model.add(Dense(10))\n",
    "model.add(Dense(1))\n",
    "\n",
    "model.compile(loss='mse', optimizer='adam')\n",
    "model.fit(X_train, y_train, validation_split=0.2, shuffle=True, epochs=5)\n",
    "\n",
    "model.save('model.h5')"
   ]
  },
  {
   "cell_type": "code",
   "execution_count": null,
   "metadata": {
    "collapsed": true
   },
   "outputs": [],
   "source": []
  }
 ],
 "metadata": {
  "kernelspec": {
   "display_name": "Python 3",
   "language": "python",
   "name": "python3"
  },
  "language_info": {
   "codemirror_mode": {
    "name": "ipython",
    "version": 3
   },
   "file_extension": ".py",
   "mimetype": "text/x-python",
   "name": "python",
   "nbconvert_exporter": "python",
   "pygments_lexer": "ipython3",
   "version": "3.5.3"
  }
 },
 "nbformat": 4,
 "nbformat_minor": 2
}
