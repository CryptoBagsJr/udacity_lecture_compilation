{
 "cells": [
  {
   "cell_type": "markdown",
   "metadata": {},
   "source": [
    "# Project - CarND-Controls-PID Writeup\n",
    "\n",
    "---\n",
    "\n",
    "## Implementation\n",
    "\n",
    "### The PID procedure follows what was taught in the lessons.\n",
    "\n",
    "The PID implementation is done on the ./src/PID.cpp. The PID::UpdateError method calculates proportional, integral and derivative errors and the PID::TotalError calculates the total error using the appropriate coefficients.\n",
    "\n",
    "We used two PID controls - one for steer values, the other for throttle values. In the onMessage event handler, the steer and the throttle values are updated by the proportional, integral and differential errors.\n",
    "\n",
    "## Reflection\n",
    "\n",
    "### Describe the effect each of the P, I, D components had in your implementation.\n",
    "\n",
    "The proportional portion of the controller tries to steer the car toward the center line (against the cross-track error). If used along, the car overshoots the central line very easily and go out of the road very quickly.\n",
    "\n",
    "The integral portion tries to eliminate a possible bias on the controlled system that could prevent the error to be eliminated. If used along, it makes the car to go in circles. In the case of the simulator, no bias is present.\n",
    "\n",
    "The differential portion helps to counteract the proportional trend to overshoot the center line by smoothing the approach to it.\n",
    "\n",
    "### Describe how the final hyperparameters were chosen.\n",
    "\n",
    "The parameters were chosen manually by try and error. First, make sure the car can drive straight with zero as parameters. Then add the proportional and the car start going on following the road but it starts overshooting go out of it. Then add the differential to try to overcome the overshooting. The integral part only moved the car out of the road; so, it stayed as zero. After the car drove the track without going out of it, the parameters increased to minimize the average cross-track error on a single track lap. The final parameters where [P: 1.5, I: 0.0, D: 3.0].\n",
    "\n",
    "We also used a PID control for throttle value. Thanks to the PID control, the maximum speed reached to around 66 MPH. The throttle value is updated by the total throttle error computed similarly by the proportional, integral and differential errors, but the default value of 0.7 was used as below:\n",
    "\n",
    "```c++\n",
    "// Adjust throttle value\n",
    "pid_throttle.UpdateError(fabs(cte));\n",
    "throttle_value = 0.7 - pid_throttle.Kp * pid_throttle.p_error -\n",
    "    pid_throttle.Kd * pid_throttle.d_error -\n",
    "    pid_throttle.Ki * pid_throttle.i_error;\n",
    "```\n",
    "\n",
    "## Simulation\n",
    "\n",
    "### The vehicle must successfully drive a lap around the track.\n",
    "\n",
    "A snapshot of the video is:\n",
    "\n",
    "<img src=\"snapshot.png\">"
   ]
  },
  {
   "cell_type": "code",
   "execution_count": null,
   "metadata": {
    "collapsed": true
   },
   "outputs": [],
   "source": []
  }
 ],
 "metadata": {
  "kernelspec": {
   "display_name": "Python 3",
   "language": "python",
   "name": "python3"
  },
  "language_info": {
   "codemirror_mode": {
    "name": "ipython",
    "version": 3
   },
   "file_extension": ".py",
   "mimetype": "text/x-python",
   "name": "python",
   "nbconvert_exporter": "python",
   "pygments_lexer": "ipython3",
   "version": "3.6.2"
  }
 },
 "nbformat": 4,
 "nbformat_minor": 2
}
