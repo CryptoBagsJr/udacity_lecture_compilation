{
 "cells": [
  {
   "cell_type": "code",
   "execution_count": 1,
   "metadata": {
    "collapsed": true
   },
   "outputs": [],
   "source": [
    "from IPython.display import YouTubeVideo"
   ]
  },
  {
   "cell_type": "markdown",
   "metadata": {},
   "source": [
    "# 1. Introduction"
   ]
  },
  {
   "cell_type": "code",
   "execution_count": 2,
   "metadata": {},
   "outputs": [
    {
     "data": {
      "image/jpeg": "[encoded data removed]",
      "text/html": [
       "\n",
       "        <iframe\n",
       "            width=\"960\"\n",
       "            height=\"540\"\n",
       "            src=\"https://www.youtube.com/embed/HbPxeJ3onmI\"\n",
       "            frameborder=\"0\"\n",
       "            allowfullscreen\n",
       "        ></iframe>\n",
       "        "
      ],
      "text/plain": [
       "<IPython.lib.display.YouTubeVideo at 0x105351c50>"
      ]
     },
     "execution_count": 2,
     "metadata": {},
     "output_type": "execute_result"
    }
   ],
   "source": [
    "YouTubeVideo('HbPxeJ3onmI', width=960, height=540)"
   ]
  },
  {
   "cell_type": "markdown",
   "metadata": {},
   "source": [
    "# 2. The CTRV Model"
   ]
  },
  {
   "cell_type": "markdown",
   "metadata": {},
   "source": [
    "## Motion Models and Kalman Filters\n",
    "In the extended kalman filter lesson, we used a constant velocity model (CV). A constant velocity model is one of the most basic motion models used with object tracking.\n",
    "\n",
    "But there are many other models including:\n",
    "\n",
    "- constant turn rate and velocity magnitude model (CTRV)\n",
    "- constant turn rate and acceleration (CTRA)\n",
    "- constant steering angle and velocity (CSAV)\n",
    "- constant curvature and acceleration (CCA)\n",
    "\n",
    "Each model makes different assumptions about an object's motion. In this lesson, you will work with the CTRV model.\n",
    "\n",
    "Keep in mind that you can use any of these motion models with either the extended Kalman filter or the unscented Kalman filter, but we wanted to expose you to more than one motion model.\n",
    "\n",
    "## Limitations of the Constant Velocity (CV) Model"
   ]
  },
  {
   "cell_type": "code",
   "execution_count": 3,
   "metadata": {},
   "outputs": [
    {
     "data": {
      "image/jpeg": "[encoded data removed]",
      "text/html": [
       "\n",
       "        <iframe\n",
       "            width=\"960\"\n",
       "            height=\"540\"\n",
       "            src=\"https://www.youtube.com/embed/g72HXEcSQHU\"\n",
       "            frameborder=\"0\"\n",
       "            allowfullscreen\n",
       "        ></iframe>\n",
       "        "
      ],
      "text/plain": [
       "<IPython.lib.display.YouTubeVideo at 0x1057bbeb8>"
      ]
     },
     "execution_count": 3,
     "metadata": {},
     "output_type": "execute_result"
    }
   ],
   "source": [
    "YouTubeVideo('g72HXEcSQHU', width=960, height=540)"
   ]
  },
  {
   "cell_type": "markdown",
   "metadata": {},
   "source": [
    "<img src=\"img/screenshot-from-2017-02-27-20-35-58.png\">\n",
    "\n",
    "## QUIZ QUESTION\n",
    "Assume a vehicle drives straight at first and then goes into a turn. If we apply a Kalman Filter to track the vehicle (using the process model from the last lesson, which assumes constant velocity), what do you expect to happen with our estimation result for the vehicle position?\n",
    "\n",
    "- (A) The position estimation would tend to result outside of the actually driven circle.\n",
    "- (B) The position estimation would tend to result inside of the actually driven circle\n",
    "- (C) The position estimation would result correctly on the actually driven circle\n",
    "- (D) It is impossible to say what would happen in this case.\n",
    "\n",
    "Answer: (A). The process model would assume the car is moving tangentially to the circle, resulting in a predicted position outside of it."
   ]
  },
  {
   "cell_type": "markdown",
   "metadata": {},
   "source": [
    "# 3. The CTRV Model State Vector"
   ]
  },
  {
   "cell_type": "code",
   "execution_count": 4,
   "metadata": {},
   "outputs": [
    {
     "data": {
      "image/jpeg": "[encoded data removed]",
      "text/html": [
       "\n",
       "        <iframe\n",
       "            width=\"960\"\n",
       "            height=\"540\"\n",
       "            src=\"https://www.youtube.com/embed/hLVz0YOhntA\"\n",
       "            frameborder=\"0\"\n",
       "            allowfullscreen\n",
       "        ></iframe>\n",
       "        "
      ],
      "text/plain": [
       "<IPython.lib.display.YouTubeVideo at 0x1057bb860>"
      ]
     },
     "execution_count": 4,
     "metadata": {},
     "output_type": "execute_result"
    }
   ],
   "source": [
    "YouTubeVideo('hLVz0YOhntA', width=960, height=540)"
   ]
  },
  {
   "cell_type": "markdown",
   "metadata": {},
   "source": [
    "<img src=\"img/screenshot-from-2017-02-27-20-45-49.png\" width=600>\n",
    "<center>A diagram of the CTRV model.</center>\n",
    "\n",
    "In the following quizzes, you'll be using state vectors to draw qualitative observations about the motion of turning objects.\n",
    "\n",
    "### General State Vector\n",
    "\n",
    "$x = \\begin{bmatrix}\n",
    "p_x\\\\\n",
    "p_y\\\\\n",
    "v\\\\\n",
    "\\psi\\\\\n",
    "\\dot{\\psi}\n",
    "\\end{bmatrix}$\n",
    "\n",
    "### State Vector 1\n",
    "\n",
    "$x = \\begin{bmatrix}\n",
    "2 \\space m\\\\\n",
    "4 \\space m\\\\\n",
    "7 \\space m/s\\\\\n",
    "0.5 \\space rad\\\\\n",
    "0.6 \\space rad/s\n",
    "\\end{bmatrix}$\n",
    "\n",
    "### State Vector 2\n",
    "\n",
    "$x = \\begin{bmatrix}\n",
    "2 \\space m\\\\\n",
    "4 \\space m\\\\\n",
    "7 \\space m/s\\\\\n",
    "0.5 \\space rad\\\\\n",
    "0 \\space rad/s\n",
    "\\end{bmatrix}$\n",
    "\n",
    "### State Vector 3\n",
    "\n",
    "$x = \\begin{bmatrix}\n",
    "2 \\space m\\\\\n",
    "4 \\space m\\\\\n",
    "9 \\space m/s\\\\\n",
    "0.5 \\space rad\\\\\n",
    "0.6 \\space rad/s\n",
    "\\end{bmatrix}$\n",
    "\n",
    "## QUESTION 1 OF 2\n",
    "Which of the above (☝) state vector(s) represent(s) a car driving on a straight path?\n",
    "\n",
    "Answer: (2). Only the second state vector has a yaw rate of 0.\n",
    "\n",
    "## QUESTION 2 OF 2\n",
    "Which of the above state vectors has the smallest turning radius?\n",
    "\n",
    "Answer: (1) Though 1 and 3 have the same yaw rate, state vector 1 has a slower speed, meaning the car would make a complete circle in less distance."
   ]
  },
  {
   "cell_type": "markdown",
   "metadata": {},
   "source": [
    "# 4. CTRV Differential Equation"
   ]
  },
  {
   "cell_type": "code",
   "execution_count": 8,
   "metadata": {},
   "outputs": [
    {
     "data": {
      "image/jpeg": "[encoded data removed]",
      "text/html": [
       "\n",
       "        <iframe\n",
       "            width=\"960\"\n",
       "            height=\"540\"\n",
       "            src=\"https://www.youtube.com/embed/o2HVZFSH1Fs\"\n",
       "            frameborder=\"0\"\n",
       "            allowfullscreen\n",
       "        ></iframe>\n",
       "        "
      ],
      "text/plain": [
       "<IPython.lib.display.YouTubeVideo at 0x1053515c0>"
      ]
     },
     "execution_count": 8,
     "metadata": {},
     "output_type": "execute_result"
    }
   ],
   "source": [
    "YouTubeVideo('o2HVZFSH1Fs', width=960, height=540)"
   ]
  },
  {
   "cell_type": "markdown",
   "metadata": {},
   "source": [
    "<img src=\"img/screenshot-from-2017-02-27-20-45-49.png\" width=600>\n",
    "<center>The CTRV model.</center>\n",
    "\n",
    "In the following quizzes, you'll need to pick the correct terms for the change rates of the state using the diagram above and some calculus! We started with:\n",
    "\n",
    "$\\dot{p_{x}} = cos(\\psi) \\cdot v$\n",
    "\n",
    "Now, pick the correct terms for $\\dot{p_{x}}$, $\\dot{v}$ and $\\ddot{\\psi}$\n",
    "\n",
    "## Question 1:  $\\dot{p_{y}}$ = ???\n",
    "\n",
    "- (A) $sin(\\psi) \\cdot v$\n",
    "- (B) $cos(\\psi) \\cdot v$\n",
    "- (C) $tan(\\psi) \\cdot v$\n",
    "\n",
    "Answer: (A)\n",
    "\n",
    "## Question 2: $\\dot{v}$ = ???\n",
    "\n",
    "- (A) 0\n",
    "- (B) $v$\n",
    "- (C) $\\psi$\n",
    "\n",
    "Answer: (A). If the velocity is constant, its rate of change is 0.\n",
    "\n",
    "## Question 3: $\\dot{\\psi}$ = ???\n",
    "\n",
    "- (A) 0\n",
    "- (B) $\\dot{\\psi}$\n",
    "- (C) $\\psi$\n",
    "\n",
    "Answer: (B) And we've already defined it in the state vector.\n",
    "\n",
    "## Question 4: $\\ddot{\\psi}$ = ???\n",
    "- (A) 0\n",
    "- (B) $v$\n",
    "- (C) $\\psi$\n",
    "\n",
    "Answer: This would be the yaw acceleration, which is 0 if you assume a constant turn rate as in the CTRV model."
   ]
  },
  {
   "cell_type": "markdown",
   "metadata": {},
   "source": [
    "# 5. CTRV Integral 1"
   ]
  },
  {
   "cell_type": "code",
   "execution_count": 9,
   "metadata": {},
   "outputs": [
    {
     "data": {
      "image/jpeg": "[encoded data removed]",
      "text/html": [
       "\n",
       "        <iframe\n",
       "            width=\"960\"\n",
       "            height=\"540\"\n",
       "            src=\"https://www.youtube.com/embed/dcR9RtwJ6yk\"\n",
       "            frameborder=\"0\"\n",
       "            allowfullscreen\n",
       "        ></iframe>\n",
       "        "
      ],
      "text/plain": [
       "<IPython.lib.display.YouTubeVideo at 0x105c67278>"
      ]
     },
     "execution_count": 9,
     "metadata": {},
     "output_type": "execute_result"
    }
   ],
   "source": [
    "YouTubeVideo('dcR9RtwJ6yk', width=960, height=540)"
   ]
  },
  {
   "cell_type": "markdown",
   "metadata": {},
   "source": [
    "## Question 1: $\\int^{tk+1}_{tk} \\dot{v}(t) dt$ = ???\n",
    "\n",
    "- (A) 0\n",
    "- (B) $v_k \\cdot \\Delta t$\n",
    "\n",
    "Answer: (A)\n",
    "\n",
    "## Question 2: $\\int^{tk+1}_{tk} \\dot{\\psi}(t) dt$  = ???\n",
    "\n",
    "- (A) 0\n",
    "- (B) $\\psi_k \\cdot \\Delta t$\n",
    "\n",
    "Answer: (B) \n",
    "\n",
    "## Question 3: $\\int^{tk+1}_{tk} \\ddot{\\psi}(t) dt$  = ???\n",
    "\n",
    "- (A) 0\n",
    "- (B) $\\psi_k \\cdot \\Delta t$\n",
    "\n",
    "Answer: (A)"
   ]
  },
  {
   "cell_type": "markdown",
   "metadata": {},
   "source": [
    "# 6. CTRV Integral 2"
   ]
  },
  {
   "cell_type": "code",
   "execution_count": 10,
   "metadata": {},
   "outputs": [
    {
     "data": {
      "image/jpeg": "[encoded data removed]",
      "text/html": [
       "\n",
       "        <iframe\n",
       "            width=\"960\"\n",
       "            height=\"540\"\n",
       "            src=\"https://www.youtube.com/embed/9E6K4Aw_MaI\"\n",
       "            frameborder=\"0\"\n",
       "            allowfullscreen\n",
       "        ></iframe>\n",
       "        "
      ],
      "text/plain": [
       "<IPython.lib.display.YouTubeVideo at 0x105351b38>"
      ]
     },
     "execution_count": 10,
     "metadata": {},
     "output_type": "execute_result"
    }
   ],
   "source": [
    "YouTubeVideo('9E6K4Aw_MaI', width=960, height=540)"
   ]
  },
  {
   "cell_type": "markdown",
   "metadata": {},
   "source": [
    "The general form of the solved integral can be found [here](http://www.wolframalpha.com/input/?i=v+int+cos(a+%2B+b+*+(t+-+c+))+dt,++t+%3D+c+to+d).\n",
    "\n",
    "## Question 1: $v_k \\int^{t_{k+1}}_{t_k} cos(\\psi_k + \\dot{\\psi_k} \\cdot (t - t_k))dt$ = ???\n",
    "\n",
    "- (A) $\\frac{\\psi_k}{\\dot{v_k}}(cos(\\psi_k) - sin(\\psi_k))$\n",
    "- (B) $\\frac{v_k}{\\dot{\\psi_k}}(sin(\\psi_k + \\dot{\\psi_k} \\Delta t) - sin(\\psi_k))$\n",
    "\n",
    "Answer: (B)\n",
    "\n",
    "## Question 2: $v_k \\int^{t_{k+1}}_{t_k} sin(\\psi_k + \\dot{\\psi_k} \\cdot (t - t_k))dt$ = ???\n",
    "\n",
    "- (A) $\\frac{v_k}{\\psi_k}(-cos(\\psi_k + \\dot{\\psi_k}) + cos(\\psi_k))$\n",
    "- (B) $\\frac{\\psi_k}{\\Delta t}(tan(\\psi_k) - sin(\\psi_k))$\n",
    "\n",
    "Answer: (A)"
   ]
  },
  {
   "cell_type": "markdown",
   "metadata": {},
   "source": [
    "# 7. CTRV Zero Yaw Rate"
   ]
  },
  {
   "cell_type": "code",
   "execution_count": 11,
   "metadata": {},
   "outputs": [
    {
     "data": {
      "image/jpeg": "[encoded data removed]",
      "text/html": [
       "\n",
       "        <iframe\n",
       "            width=\"960\"\n",
       "            height=\"540\"\n",
       "            src=\"https://www.youtube.com/embed/8gAsx7OAH6c\"\n",
       "            frameborder=\"0\"\n",
       "            allowfullscreen\n",
       "        ></iframe>\n",
       "        "
      ],
      "text/plain": [
       "<IPython.lib.display.YouTubeVideo at 0x105c67128>"
      ]
     },
     "execution_count": 11,
     "metadata": {},
     "output_type": "execute_result"
    }
   ],
   "source": [
    "YouTubeVideo('8gAsx7OAH6c', width=960, height=540)"
   ]
  },
  {
   "cell_type": "markdown",
   "metadata": {},
   "source": [
    "<img src=\"img/screenshot-from-2017-02-27-20-45-49.png\" width=600>\n",
    "<center>The CTRV model for your reference.</center>"
   ]
  },
  {
   "cell_type": "markdown",
   "metadata": {},
   "source": [
    "How should the process model change if the yaw rate, $\\dot{\\psi}_k$ is 0? Think it through for the first two components of the process model. (Why not the last three components? They all have the trivial solution of 0 when $\\dot{\\psi}_k$ is 0.)\n",
    "\n",
    "## Question 1: How should we calculate the change in the x-position over time when $\\dot{\\psi}_k$ is 0?\n",
    "\n",
    "- (A) $v_k cos(\\psi_k) \\Delta t$\n",
    "- (B) $v_k tan(\\psi_k) \\Delta t$\n",
    "\n",
    "### QUESTION 1 OF 2\n",
    "1) Which of the above (☝) options gives the change in x-position over time when the yaw rate is 0?\n",
    "\n",
    "Answer: (A)\n",
    "\n",
    "## Question 2: How should we calculate the change in the y-position over time when $\\dot{\\psi}_k$ is 0?\n",
    "\n",
    "- (A) $v_k sin(\\psi_k) \\Delta t$\n",
    "- (B) $v_k tan(\\psi_k) \\Delta t$\n",
    "\n",
    "### QUESTION 2 OF 2\n",
    "2) Which of the above (☝) options gives the change in y-position over time when the yaw rate is 0?\n",
    "\n",
    "Answer: (A)"
   ]
  },
  {
   "cell_type": "markdown",
   "metadata": {},
   "source": [
    "# 8. CTRV Process Noise Vector"
   ]
  },
  {
   "cell_type": "code",
   "execution_count": 12,
   "metadata": {},
   "outputs": [
    {
     "data": {
      "image/jpeg": "[encoded data removed]",
      "text/html": [
       "\n",
       "        <iframe\n",
       "            width=\"960\"\n",
       "            height=\"540\"\n",
       "            src=\"https://www.youtube.com/embed/Qr99RXys-G0\"\n",
       "            frameborder=\"0\"\n",
       "            allowfullscreen\n",
       "        ></iframe>\n",
       "        "
      ],
      "text/plain": [
       "<IPython.lib.display.YouTubeVideo at 0x105c677b8>"
      ]
     },
     "execution_count": 12,
     "metadata": {},
     "output_type": "execute_result"
    }
   ],
   "source": [
    "YouTubeVideo('Qr99RXys-G0', width=960, height=540)"
   ]
  },
  {
   "cell_type": "code",
   "execution_count": 13,
   "metadata": {},
   "outputs": [
    {
     "data": {
      "image/jpeg": "[encoded data removed]",
      "text/html": [
       "\n",
       "        <iframe\n",
       "            width=\"960\"\n",
       "            height=\"540\"\n",
       "            src=\"https://www.youtube.com/embed/DUm8e7K8qZ8\"\n",
       "            frameborder=\"0\"\n",
       "            allowfullscreen\n",
       "        ></iframe>\n",
       "        "
      ],
      "text/plain": [
       "<IPython.lib.display.YouTubeVideo at 0x105c67f28>"
      ]
     },
     "execution_count": 13,
     "metadata": {},
     "output_type": "execute_result"
    }
   ],
   "source": [
    "YouTubeVideo('DUm8e7K8qZ8', width=960, height=540)"
   ]
  },
  {
   "cell_type": "markdown",
   "metadata": {},
   "source": [
    "## 1) What is the influence of $v_{a,k}$ and $v_{\\ddot{\\psi} k}$ on the velocity?\n",
    "In other words, what is c in the process model?\n",
    "\n",
    "- (A) $\\Delta t \\cdot v_{\\ddot{\\psi}, k}$\n",
    "- (B) $\\Delta t \\cdot v_{a,k}$\n",
    "\n",
    "### QUESTION 1 OF 3\n",
    "1) How will the noise processes influence the velocity? Select one of the options from above (👆).\n",
    "- (A)\n",
    "- (B)\n",
    "\n",
    "Answer: (B) The acceleration's noise impacts the velocity.\n",
    "\n",
    "## 2) What is the influence of $v_{a,k}$ and $v_{\\ddot{\\psi} k}$ on the yaw angle?\n",
    "In other words, what is d in the process model?\n",
    "\n",
    "- (A) $\\frac{1}{2}(\\Delta t)^2 \\cdot v_{\\ddot{\\psi}, k}$\n",
    "- (B) $\\Delta t \\cdot v_{\\ddot{\\psi}, k}$\n",
    "\n",
    "### QUESTION 2 OF 3\n",
    "2) How will the noise processes influence the yaw angle? Select one of the options from above (👆).\n",
    "\n",
    "- (A) \n",
    "- (B)\n",
    "\n",
    "Answer: (A)\n",
    "\n",
    "## 3) What is the influence of $v_{a,k}$ and $v_{\\ddot{\\psi} k}$ on the yaw rate?\n",
    "In other words, what is e in the process model?\n",
    "\n",
    "- (A) $\\Delta t \\cdot v_{a, k}$\n",
    "- (B) $\\Delta t \\cdot v_{\\ddot{\\psi}, k}$\n",
    "\n",
    "### QUESTION 3 OF 3\n",
    "3) How will the noise processes influence the yaw rate? Select one of the options from above (👆).\n",
    "\n",
    "Answer: (B)\n"
   ]
  },
  {
   "cell_type": "markdown",
   "metadata": {
    "collapsed": true
   },
   "source": [
    "# 9. CTRV Process Noise Position"
   ]
  },
  {
   "cell_type": "code",
   "execution_count": 2,
   "metadata": {},
   "outputs": [
    {
     "data": {
      "image/jpeg": "[encoded data removed]",
      "text/html": [
       "\n",
       "        <iframe\n",
       "            width=\"960\"\n",
       "            height=\"540\"\n",
       "            src=\"https://www.youtube.com/embed/P-tUsFgYdFE\"\n",
       "            frameborder=\"0\"\n",
       "            allowfullscreen\n",
       "        ></iframe>\n",
       "        "
      ],
      "text/plain": [
       "<IPython.lib.display.YouTubeVideo at 0x109ce6cf8>"
      ]
     },
     "execution_count": 2,
     "metadata": {},
     "output_type": "execute_result"
    }
   ],
   "source": [
    "YouTubeVideo('P-tUsFgYdFE', width=960, height=540)"
   ]
  },
  {
   "cell_type": "markdown",
   "metadata": {},
   "source": [
    "## 1) What would the x acceleration offset be if the car were driving perfectly straight? In other words, what is a?\n",
    "\n",
    "- (A). $\\frac{1}{2}(\\Delta t)^2cos(\\psi_k) \\cdot v_{a,k}$\n",
    "- (B). $\\frac{1}{2}(\\Delta t)^2sin(\\psi_k) \\cdot v_{a,k}$\n",
    "\n",
    "\n",
    "## QUESTION 1 OF 2\n",
    "1) Which of the above (👆) options represents the acceleration x offset of a car driving straight at time k+1?\n",
    "\n",
    "Answer: (A)\n",
    "\n",
    "\n",
    "## 1) What would the y acceleration offset be if the car were driving perfectly straight? In other words, what is b?\n",
    "\n",
    "- (A). $\\frac{1}{2}(\\Delta t)^2cos(\\psi_k) \\cdot v_{a,k}$\n",
    "- (B). $\\frac{1}{2}(\\Delta t)^2sin(\\psi_k) \\cdot v_{a,k}$ \n",
    "\n",
    "Answer: (B) "
   ]
  },
  {
   "cell_type": "markdown",
   "metadata": {},
   "source": [
    "# 10. UKF Process Chain"
   ]
  },
  {
   "cell_type": "markdown",
   "metadata": {},
   "source": [
    "## Unscented Kalman Filter Introduction\n",
    "Now that you have learned the CTRV motion model equations, we will discuss how the unscented Kalman filter works. As you go through the lectures, recall that the extended Kalman filter uses the Jacobian matrix to linearize non-linear functions.\n",
    "\n",
    "The unscented Kalman filter, on the other hand, does not need to linearize non-linear functions; instead, the unscented Kalman filter takes representative points from a Gaussian distribution. These points will be plugged into the non-linear equations as you'll see in the lectures.\n"
   ]
  },
  {
   "cell_type": "code",
   "execution_count": 3,
   "metadata": {},
   "outputs": [
    {
     "data": {
      "image/jpeg": "[encoded data removed]",
      "text/html": [
       "\n",
       "        <iframe\n",
       "            width=\"960\"\n",
       "            height=\"540\"\n",
       "            src=\"https://www.youtube.com/embed/sU7ifLgxxas\"\n",
       "            frameborder=\"0\"\n",
       "            allowfullscreen\n",
       "        ></iframe>\n",
       "        "
      ],
      "text/plain": [
       "<IPython.lib.display.YouTubeVideo at 0x10a14f9b0>"
      ]
     },
     "execution_count": 3,
     "metadata": {},
     "output_type": "execute_result"
    }
   ],
   "source": [
    "YouTubeVideo('sU7ifLgxxas', width=960, height=540)"
   ]
  },
  {
   "cell_type": "markdown",
   "metadata": {},
   "source": [
    "# 11. What Problem Does the UKF Solve?"
   ]
  },
  {
   "cell_type": "code",
   "execution_count": 4,
   "metadata": {},
   "outputs": [
    {
     "data": {
      "image/jpeg": "[encoded data removed]",
      "text/html": [
       "\n",
       "        <iframe\n",
       "            width=\"960\"\n",
       "            height=\"540\"\n",
       "            src=\"https://www.youtube.com/embed/OFb47Lu9JfM\"\n",
       "            frameborder=\"0\"\n",
       "            allowfullscreen\n",
       "        ></iframe>\n",
       "        "
      ],
      "text/plain": [
       "<IPython.lib.display.YouTubeVideo at 0x10a14fd68>"
      ]
     },
     "execution_count": 4,
     "metadata": {},
     "output_type": "execute_result"
    }
   ],
   "source": [
    "YouTubeVideo('OFb47Lu9JfM', width=960, height=540)"
   ]
  },
  {
   "cell_type": "markdown",
   "metadata": {},
   "source": [
    "# 12. UKF Basics Unscented Transformation"
   ]
  },
  {
   "cell_type": "code",
   "execution_count": 5,
   "metadata": {},
   "outputs": [
    {
     "data": {
      "image/jpeg": "[encoded data removed]",
      "text/html": [
       "\n",
       "        <iframe\n",
       "            width=\"960\"\n",
       "            height=\"540\"\n",
       "            src=\"https://www.youtube.com/embed/8jbckHQDl4A\"\n",
       "            frameborder=\"0\"\n",
       "            allowfullscreen\n",
       "        ></iframe>\n",
       "        "
      ],
      "text/plain": [
       "<IPython.lib.display.YouTubeVideo at 0x109ce6cc0>"
      ]
     },
     "execution_count": 5,
     "metadata": {},
     "output_type": "execute_result"
    }
   ],
   "source": [
    "YouTubeVideo('8jbckHQDl4A', width=960, height=540)"
   ]
  },
  {
   "cell_type": "code",
   "execution_count": 6,
   "metadata": {},
   "outputs": [
    {
     "data": {
      "image/jpeg": "[encoded data removed]",
      "text/html": [
       "\n",
       "        <iframe\n",
       "            width=\"960\"\n",
       "            height=\"540\"\n",
       "            src=\"https://www.youtube.com/embed/r594P0XjKa4\"\n",
       "            frameborder=\"0\"\n",
       "            allowfullscreen\n",
       "        ></iframe>\n",
       "        "
      ],
      "text/plain": [
       "<IPython.lib.display.YouTubeVideo at 0x109ce65c0>"
      ]
     },
     "execution_count": 6,
     "metadata": {},
     "output_type": "execute_result"
    }
   ],
   "source": [
    "YouTubeVideo('r594P0XjKa4', width=960, height=540)"
   ]
  },
  {
   "cell_type": "markdown",
   "metadata": {},
   "source": [
    "# 13. Generating Sigma Points"
   ]
  },
  {
   "cell_type": "code",
   "execution_count": 7,
   "metadata": {},
   "outputs": [
    {
     "data": {
      "image/jpeg": "[encoded data removed]",
      "text/html": [
       "\n",
       "        <iframe\n",
       "            width=\"960\"\n",
       "            height=\"540\"\n",
       "            src=\"https://www.youtube.com/embed/0LjX-VDJbzU\"\n",
       "            frameborder=\"0\"\n",
       "            allowfullscreen\n",
       "        ></iframe>\n",
       "        "
      ],
      "text/plain": [
       "<IPython.lib.display.YouTubeVideo at 0x109ce6d30>"
      ]
     },
     "execution_count": 7,
     "metadata": {},
     "output_type": "execute_result"
    }
   ],
   "source": [
    "YouTubeVideo('0LjX-VDJbzU', width=960, height=540)"
   ]
  },
  {
   "cell_type": "markdown",
   "metadata": {},
   "source": [
    "# 14. Generating Sigma Points Assignment 1"
   ]
  },
  {
   "cell_type": "code",
   "execution_count": 8,
   "metadata": {},
   "outputs": [
    {
     "data": {
      "image/jpeg": "[encoded data removed]",
      "text/html": [
       "\n",
       "        <iframe\n",
       "            width=\"960\"\n",
       "            height=\"540\"\n",
       "            src=\"https://www.youtube.com/embed/TIc3n-cxTqc\"\n",
       "            frameborder=\"0\"\n",
       "            allowfullscreen\n",
       "        ></iframe>\n",
       "        "
      ],
      "text/plain": [
       "<IPython.lib.display.YouTubeVideo at 0x10b60f550>"
      ]
     },
     "execution_count": 8,
     "metadata": {},
     "output_type": "execute_result"
    }
   ],
   "source": [
    "YouTubeVideo('TIc3n-cxTqc', width=960, height=540)"
   ]
  },
  {
   "cell_type": "markdown",
   "metadata": {},
   "source": [
    "## Instructor Notes:\n",
    "In the video, the upper left value of sqrt(P_k|k) is 0.00656. It should actually be 0.0656\n",
    "\n",
    "## Generating Sigma Points Assignment\n",
    "You will be completing the missing code in ukf.cpp, GenerateSigmaPoints() function.\n",
    "\n",
    "\n",
    "\n",
    "## Helpful Equations and Resources\n",
    "\n",
    "$X_{k|k} = [x_{k|k} \\qquad x_{k|k} + \\sqrt{(\\lambda+n_x)P_{k|k}} \\qquad x_{k|k} - \\sqrt{(\\lambda+n_x)P_{k|k}}]$\n",
    "\n",
    "\n",
    "remember that $x_{k∣k}$ is the first column of the Sigma matrix.\n",
    "\n",
    "$x_{k|k} + \\sqrt{(\\lambda+n_x)P_{k|k}}$ is the second through $n_x + 1$ column.\n",
    "\n",
    "$x_{k|k} - \\sqrt{(\\lambda+n_x)P_{k|k}}$ is the $n_x+2$ column through $2n_x + 1$ column.\n",
    "\n",
    "and you can set columns easily in a matrix using the .col() function.\n",
    "\n",
    "- [Eigen Quick Reference Guide](https://eigen.tuxfamily.org/dox/group__QuickRefPage.html)\n",
    "- [Eigen Documentation of Cholesky Decomposition](https://eigen.tuxfamily.org/dox/classEigen_1_1LLT.html)\n",
    "\n",
    "Please note that the algorithm used in the quiz (P.llt().matrixL())produces the lower triangular matrix L of the matrix P such that P = L*L^."
   ]
  },
  {
   "cell_type": "markdown",
   "metadata": {},
   "source": [
    "## main.cpp\n",
    "\n",
    "```c++\n",
    "#include <iostream>\n",
    "#include \"Dense\"\n",
    "#include <vector>\n",
    "#include \"ukf.h\"\n",
    "\n",
    "using namespace std;\n",
    "using Eigen::MatrixXd;\n",
    "using Eigen::VectorXd;\n",
    "using std::vector;\n",
    "\n",
    "int main() {\n",
    "\n",
    "\t//Create a UKF instance\n",
    "\tUKF ukf;\n",
    "\n",
    "/*******************************************************************************\n",
    "* Programming assignment calls\n",
    "*******************************************************************************/\n",
    "\n",
    "    MatrixXd Xsig = MatrixXd(5, 11);\n",
    "    ukf.GenerateSigmaPoints(&Xsig);\n",
    "\n",
    "    //print result\n",
    "    std::cout << \"Xsig = \" << std::endl << Xsig << std::endl;\n",
    "\n",
    "\treturn 0;\n",
    "}\n",
    "```"
   ]
  },
  {
   "cell_type": "markdown",
   "metadata": {},
   "source": [
    "## ukf.cpp\n",
    "\n",
    "```c++\n",
    "#include <iostream>\n",
    "#include \"ukf.h\"\n",
    "\n",
    "UKF::UKF() {\n",
    "  //TODO Auto-generated constructor stub\n",
    "  Init();\n",
    "}\n",
    "\n",
    "UKF::~UKF() {\n",
    "  //TODO Auto-generated destructor stub\n",
    "}\n",
    "\n",
    "void UKF::Init() {\n",
    "\n",
    "}\n",
    "\n",
    "/*******************************************************************************\n",
    "* Programming assignment functions: \n",
    "*******************************************************************************/\n",
    "\n",
    "\n",
    "void UKF::GenerateSigmaPoints(MatrixXd* Xsig_out) {\n",
    "\n",
    "  //set state dimension\n",
    "  int n_x = 5;\n",
    "\n",
    "  //define spreading parameter\n",
    "  double lambda = 3 - n_x;\n",
    "\n",
    "  //set example state\n",
    "  VectorXd x = VectorXd(n_x);\n",
    "  x <<   5.7441,\n",
    "         1.3800,\n",
    "         2.2049,\n",
    "         0.5015,\n",
    "         0.3528;\n",
    "\n",
    "  //set example covariance matrix\n",
    "  MatrixXd P = MatrixXd(n_x, n_x);\n",
    "  P <<     0.0043,   -0.0013,    0.0030,   -0.0022,   -0.0020,\n",
    "          -0.0013,    0.0077,    0.0011,    0.0071,    0.0060,\n",
    "           0.0030,    0.0011,    0.0054,    0.0007,    0.0008,\n",
    "          -0.0022,    0.0071,    0.0007,    0.0098,    0.0100,\n",
    "          -0.0020,    0.0060,    0.0008,    0.0100,    0.0123;\n",
    "\n",
    "  //create sigma point matrix\n",
    "  MatrixXd Xsig = MatrixXd(n_x, 2 * n_x + 1);\n",
    "\n",
    "  //calculate square root of P\n",
    "  MatrixXd A = P.llt().matrixL();\n",
    "\n",
    "/*******************************************************************************\n",
    " * Student part begin\n",
    " ******************************************************************************/\n",
    "\n",
    "  //your code goes here \n",
    "  \n",
    "  //calculate sigma points ...\n",
    "  //set sigma points as columns of matrix Xsig\n",
    "\n",
    "/*******************************************************************************\n",
    " * Student part end\n",
    " ******************************************************************************/\n",
    "\n",
    "  //print result\n",
    "  //std::cout << \"Xsig = \" << std::endl << Xsig << std::endl;\n",
    "\n",
    "  //write result\n",
    "  *Xsig_out = Xsig;\n",
    "\n",
    "/* expected result:\n",
    "   Xsig =\n",
    "    5.7441  5.85768   5.7441   5.7441   5.7441   5.7441  5.63052   5.7441   5.7441   5.7441   5.7441\n",
    "      1.38  1.34566  1.52806     1.38     1.38     1.38  1.41434  1.23194     1.38     1.38     1.38\n",
    "    2.2049  2.28414  2.24557  2.29582   2.2049   2.2049  2.12566  2.16423  2.11398   2.2049   2.2049\n",
    "    0.5015  0.44339 0.631886 0.516923 0.595227   0.5015  0.55961 0.371114 0.486077 0.407773   0.5015\n",
    "    0.3528 0.299973 0.462123 0.376339  0.48417 0.418721 0.405627 0.243477 0.329261  0.22143 0.286879\n",
    "*/\n",
    "\n",
    "}\n",
    "```"
   ]
  },
  {
   "cell_type": "markdown",
   "metadata": {},
   "source": [
    "## ukf.h\n",
    "\n",
    "```c++\n",
    "#ifndef UKF_H\n",
    "#define UKF_H\n",
    "#include \"Dense\"\n",
    "#include <vector>\n",
    "\n",
    "using Eigen::MatrixXd;\n",
    "using Eigen::VectorXd;\n",
    "\n",
    "class UKF {\n",
    "public:\n",
    "\n",
    "\n",
    "  /**\n",
    "\t * Constructor\n",
    "\t */\n",
    "\tUKF();\n",
    "\n",
    "\t/**\n",
    "\t * Destructor\n",
    "\t */\n",
    "\tvirtual ~UKF();\n",
    "\n",
    "\t/**\n",
    "\t * Init Initializes Unscented Kalman filter\n",
    "\t */\n",
    "\tvoid Init();\n",
    "\n",
    "  /**\n",
    "   * Student assignment functions\n",
    "   */\n",
    "  void GenerateSigmaPoints(MatrixXd* Xsig_out);\n",
    "  void AugmentedSigmaPoints(MatrixXd* Xsig_out);\n",
    "  void SigmaPointPrediction(MatrixXd* Xsig_out);\n",
    "  void PredictMeanAndCovariance(VectorXd* x_pred, MatrixXd* P_pred);\n",
    "  void PredictRadarMeasurement(VectorXd* z_out, MatrixXd* S_out);\n",
    "  void UpdateState(VectorXd* x_out, MatrixXd* P_out);\n",
    "\n",
    "};\n",
    "\n",
    "#endif /* UKF_H */\n",
    "```"
   ]
  },
  {
   "cell_type": "markdown",
   "metadata": {},
   "source": [
    "## expected result:\n",
    "Xsig =\n",
    "\n",
    "5.7441 5.85768 5.7441 5.7441 5.7441 5.7441 5.63052 5.7441 5.7441 5.7441 5.7441\n",
    "\n",
    "1.38 1.34566 1.52806 1.38 1.38 1.38 1.41434 1.23194 1.38 1.38 1.38\n",
    "\n",
    "2.2049 2.28414 2.24557 2.29582 2.2049 2.2049 2.12566 2.16423 2.11398 2.2049 2.2049\n",
    "\n",
    "0.5015 0.44339 0.631886 0.516923 0.595227 0.5015 0.55961 0.371114 0.486077 0.407773 0.5015\n",
    "\n",
    "0.3528 0.299973 0.462123 0.376339 0.48417 0.418721 0.405627 0.243477 0.329261 0.22143 0.286879"
   ]
  },
  {
   "cell_type": "markdown",
   "metadata": {},
   "source": [
    "# 15. Generating Sigma Points Assignment 2"
   ]
  },
  {
   "cell_type": "markdown",
   "metadata": {},
   "source": [
    "## ukf.cpp\n",
    "```c++\n",
    "#include <iostream>\n",
    "#include \"ukf.h\"\n",
    "\n",
    "UKF::UKF() {\n",
    "  //TODO Auto-generated constructor stub\n",
    "  Init();\n",
    "}\n",
    "\n",
    "UKF::~UKF() {\n",
    "  //TODO Auto-generated destructor stub\n",
    "}\n",
    "\n",
    "void UKF::Init() {\n",
    "\n",
    "}\n",
    "\n",
    "/*******************************************************************************\n",
    "* Programming assignment functions: \n",
    "*******************************************************************************/\n",
    "\n",
    "\n",
    "void UKF::GenerateSigmaPoints(MatrixXd* Xsig_out) {\n",
    "\n",
    "  //set state dimension\n",
    "  int n_x = 5;\n",
    "\n",
    "  //define spreading parameter\n",
    "  double lambda = 3 - n_x;\n",
    "\n",
    "  //set example state\n",
    "  VectorXd x = VectorXd(n_x);\n",
    "  x <<   5.7441,\n",
    "         1.3800,\n",
    "         2.2049,\n",
    "         0.5015,\n",
    "         0.3528;\n",
    "\n",
    "  //set example covariance matrix\n",
    "  MatrixXd P = MatrixXd(n_x, n_x);\n",
    "  P <<     0.0043,   -0.0013,    0.0030,   -0.0022,   -0.0020,\n",
    "          -0.0013,    0.0077,    0.0011,    0.0071,    0.0060,\n",
    "           0.0030,    0.0011,    0.0054,    0.0007,    0.0008,\n",
    "          -0.0022,    0.0071,    0.0007,    0.0098,    0.0100,\n",
    "          -0.0020,    0.0060,    0.0008,    0.0100,    0.0123;\n",
    "\n",
    "  //create sigma point matrix\n",
    "  MatrixXd Xsig = MatrixXd(n_x, 2 * n_x + 1);\n",
    "\n",
    "  //calculate square root of P\n",
    "  MatrixXd A = P.llt().matrixL();\n",
    "\n",
    "/*******************************************************************************\n",
    " * Student part begin\n",
    " ******************************************************************************/\n",
    "\n",
    "  //set first column of sigma point matrix\n",
    "  Xsig.col(0)  = x;\n",
    "\n",
    "  //set remaining sigma points\n",
    "  for (int i = 0; i < n_x; i++)\n",
    "  {\n",
    "    Xsig.col(i+1)     = x + sqrt(lambda+n_x) * A.col(i);\n",
    "    Xsig.col(i+1+n_x) = x - sqrt(lambda+n_x) * A.col(i);\n",
    "  }\n",
    "\n",
    "/*******************************************************************************\n",
    " * Student part end\n",
    " ******************************************************************************/\n",
    "\n",
    "  //print result\n",
    "  //std::cout << \"Xsig = \" << std::endl << Xsig << std::endl;\n",
    "\n",
    "  //write result\n",
    "  *Xsig_out = Xsig;\n",
    "\n",
    "/* expected result:\n",
    "   Xsig =\n",
    "    5.7441  5.85768   5.7441   5.7441   5.7441   5.7441  5.63052   5.7441   5.7441   5.7441   5.7441\n",
    "      1.38  1.34566  1.52806     1.38     1.38     1.38  1.41434  1.23194     1.38     1.38     1.38\n",
    "    2.2049  2.28414  2.24557  2.29582   2.2049   2.2049  2.12566  2.16423  2.11398   2.2049   2.2049\n",
    "    0.5015  0.44339 0.631886 0.516923 0.595227   0.5015  0.55961 0.371114 0.486077 0.407773   0.5015\n",
    "    0.3528 0.299973 0.462123 0.376339  0.48417 0.418721 0.405627 0.243477 0.329261  0.22143 0.286879\n",
    "*/\n",
    "\n",
    "}\n",
    "```"
   ]
  },
  {
   "cell_type": "markdown",
   "metadata": {},
   "source": [
    "# 16. UKF Augmentation"
   ]
  },
  {
   "cell_type": "code",
   "execution_count": 9,
   "metadata": {},
   "outputs": [
    {
     "data": {
      "image/jpeg": "[encoded data removed]",
      "text/html": [
       "\n",
       "        <iframe\n",
       "            width=\"960\"\n",
       "            height=\"540\"\n",
       "            src=\"https://www.youtube.com/embed/Lp6-u-EQkAI\"\n",
       "            frameborder=\"0\"\n",
       "            allowfullscreen\n",
       "        ></iframe>\n",
       "        "
      ],
      "text/plain": [
       "<IPython.lib.display.YouTubeVideo at 0x10b601c50>"
      ]
     },
     "execution_count": 9,
     "metadata": {},
     "output_type": "execute_result"
    }
   ],
   "source": [
    "YouTubeVideo('Lp6-u-EQkAI', width=960, height=540)"
   ]
  },
  {
   "cell_type": "markdown",
   "metadata": {},
   "source": [
    "# 17. Augmentation Assignment 1"
   ]
  },
  {
   "cell_type": "code",
   "execution_count": 10,
   "metadata": {},
   "outputs": [
    {
     "data": {
      "image/jpeg": "[encoded data removed]",
      "text/html": [
       "\n",
       "        <iframe\n",
       "            width=\"960\"\n",
       "            height=\"540\"\n",
       "            src=\"https://www.youtube.com/embed/5p-PqtxQeM8\"\n",
       "            frameborder=\"0\"\n",
       "            allowfullscreen\n",
       "        ></iframe>\n",
       "        "
      ],
      "text/plain": [
       "<IPython.lib.display.YouTubeVideo at 0x10b60f2e8>"
      ]
     },
     "execution_count": 10,
     "metadata": {},
     "output_type": "execute_result"
    }
   ],
   "source": [
    "YouTubeVideo('5p-PqtxQeM8', width=960, height=540)"
   ]
  },
  {
   "cell_type": "markdown",
   "metadata": {},
   "source": [
    "## Augmentation Assignment\n",
    "Fill in the missing code in ukf.cpp, AugmentedSigmaPoints()."
   ]
  },
  {
   "cell_type": "markdown",
   "metadata": {},
   "source": [
    "## Cheat Sheet\n",
    "\n",
    "Augmented State = $x_{a,k} = \\begin{bmatrix}\n",
    "p_x\\\\\n",
    "p_y\\\\\n",
    "v\\\\\n",
    "\\psi\\\\\n",
    "\\dot{\\psi}\\\\\n",
    "\\nu_a\\\\\n",
    "\\nu_{\\ddot{\\psi}}\n",
    "\\end{bmatrix}$\n",
    "\n",
    "Note: The mean of the process noise is zero.\n",
    "\n",
    "Augmented Covariance Matrix = $P_{a,k|k} = \\begin{bmatrix}\n",
    "P_{k|k} \\qquad0 \\\\\n",
    "0 \\qquad Q\n",
    "\\end{bmatrix}$\n",
    "\n",
    "## Helpful Matrix and Vector Functions:\n",
    "Quickly set vector y as first n elements of vector x.\n",
    "\n",
    "x.head(n) = y, where n is the number of elements from first element, and y is an input vector of that size.\n",
    "\n",
    "Quickly set matrix y to top left corner of matrix x.\n",
    "\n",
    "x.topLeftCorner(y_size, y_size)\n",
    "\n",
    "Reminder of what function to use to take the square root of a matrix x,\n",
    "\n",
    "x.llt().matrixL();\n"
   ]
  },
  {
   "cell_type": "markdown",
   "metadata": {},
   "source": [
    "## main.cpp\n",
    "\n",
    "```c++\n",
    "#include <iostream>\n",
    "#include \"Dense\"\n",
    "#include <vector>\n",
    "#include \"ukf.h\"\n",
    "\n",
    "using namespace std;\n",
    "using Eigen::MatrixXd;\n",
    "using Eigen::VectorXd;\n",
    "using std::vector;\n",
    "\n",
    "int main() {\n",
    "\n",
    "\t//Create a UKF instance\n",
    "\tUKF ukf;\n",
    "\n",
    "/*******************************************************************************\n",
    "* Programming assignment calls\n",
    "*******************************************************************************/\n",
    "\n",
    "    MatrixXd Xsig_aug = MatrixXd(7, 15);\n",
    "    ukf.AugmentedSigmaPoints(&Xsig_aug);\n",
    "\n",
    "\treturn 0;\n",
    "}\n",
    "```"
   ]
  },
  {
   "cell_type": "markdown",
   "metadata": {},
   "source": [
    "## ukf.cpp\n",
    "\n",
    "```c++\n",
    "#include <iostream>\n",
    "#include \"ukf.h\"\n",
    "\n",
    "UKF::UKF() {\n",
    "  //TODO Auto-generated constructor stub\n",
    "  Init();\n",
    "}\n",
    "\n",
    "UKF::~UKF() {\n",
    "  //TODO Auto-generated destructor stub\n",
    "}\n",
    "\n",
    "void UKF::Init() {\n",
    "\n",
    "}\n",
    "\n",
    "\n",
    "/*******************************************************************************\n",
    "* Programming assignment functions: \n",
    "*******************************************************************************/\n",
    "\n",
    "void UKF::AugmentedSigmaPoints(MatrixXd* Xsig_out) {\n",
    "\n",
    "  //set state dimension\n",
    "  int n_x = 5;\n",
    "\n",
    "  //set augmented dimension\n",
    "  int n_aug = 7;\n",
    "\n",
    "  //Process noise standard deviation longitudinal acceleration in m/s^2\n",
    "  double std_a = 0.2;\n",
    "\n",
    "  //Process noise standard deviation yaw acceleration in rad/s^2\n",
    "  double std_yawdd = 0.2;\n",
    "\n",
    "  //define spreading parameter\n",
    "  double lambda = 3 - n_aug;\n",
    "\n",
    "  //set example state\n",
    "  VectorXd x = VectorXd(n_x);\n",
    "  x <<   5.7441,\n",
    "         1.3800,\n",
    "         2.2049,\n",
    "         0.5015,\n",
    "         0.3528;\n",
    "\n",
    "  //create example covariance matrix\n",
    "  MatrixXd P = MatrixXd(n_x, n_x);\n",
    "  P <<     0.0043,   -0.0013,    0.0030,   -0.0022,   -0.0020,\n",
    "          -0.0013,    0.0077,    0.0011,    0.0071,    0.0060,\n",
    "           0.0030,    0.0011,    0.0054,    0.0007,    0.0008,\n",
    "          -0.0022,    0.0071,    0.0007,    0.0098,    0.0100,\n",
    "          -0.0020,    0.0060,    0.0008,    0.0100,    0.0123;\n",
    "\n",
    "  //create augmented mean vector\n",
    "  VectorXd x_aug = VectorXd(7);\n",
    "\n",
    "  //create augmented state covariance\n",
    "  MatrixXd P_aug = MatrixXd(7, 7);\n",
    "\n",
    "  //create sigma point matrix\n",
    "  MatrixXd Xsig_aug = MatrixXd(n_aug, 2 * n_aug + 1);\n",
    "\n",
    "/*******************************************************************************\n",
    " * Student part begin\n",
    " ******************************************************************************/\n",
    " \n",
    "  //create augmented mean state\n",
    "  //create augmented covariance matrix\n",
    "  //create square root matrix\n",
    "  //create augmented sigma points\n",
    "  \n",
    "/*******************************************************************************\n",
    " * Student part end\n",
    " ******************************************************************************/\n",
    "\n",
    "  //print result\n",
    "  std::cout << \"Xsig_aug = \" << std::endl << Xsig_aug << std::endl;\n",
    "\n",
    "  //write result\n",
    "  *Xsig_out = Xsig_aug;\n",
    "\n",
    "/* expected result:\n",
    "   Xsig_aug =\n",
    "  5.7441  5.85768   5.7441   5.7441   5.7441   5.7441   5.7441   5.7441  5.63052   5.7441   5.7441   5.7441   5.7441   5.7441   5.7441\n",
    "    1.38  1.34566  1.52806     1.38     1.38     1.38     1.38     1.38  1.41434  1.23194     1.38     1.38     1.38     1.38     1.38\n",
    "  2.2049  2.28414  2.24557  2.29582   2.2049   2.2049   2.2049   2.2049  2.12566  2.16423  2.11398   2.2049   2.2049   2.2049   2.2049\n",
    "  0.5015  0.44339 0.631886 0.516923 0.595227   0.5015   0.5015   0.5015  0.55961 0.371114 0.486077 0.407773   0.5015   0.5015   0.5015\n",
    "  0.3528 0.299973 0.462123 0.376339  0.48417 0.418721   0.3528   0.3528 0.405627 0.243477 0.329261  0.22143 0.286879   0.3528   0.3528\n",
    "       0        0        0        0        0        0  0.34641        0        0        0        0        0        0 -0.34641        0\n",
    "       0        0        0        0        0        0        0  0.34641        0        0        0        0        0        0 -0.34641\n",
    "*/\n",
    "\n",
    "}\n",
    "```"
   ]
  },
  {
   "cell_type": "markdown",
   "metadata": {},
   "source": [
    "## ukf.h\n",
    "```c++\n",
    "#ifndef UKF_H\n",
    "#define UKF_H\n",
    "#include \"Dense\"\n",
    "#include <vector>\n",
    "\n",
    "using Eigen::MatrixXd;\n",
    "using Eigen::VectorXd;\n",
    "\n",
    "class UKF {\n",
    "public:\n",
    "\n",
    "\n",
    "  /**\n",
    "\t * Constructor\n",
    "\t */\n",
    "\tUKF();\n",
    "\n",
    "\t/**\n",
    "\t * Destructor\n",
    "\t */\n",
    "\tvirtual ~UKF();\n",
    "\n",
    "\t/**\n",
    "\t * Init Initializes Unscented Kalman filter\n",
    "\t */\n",
    "\tvoid Init();\n",
    "\n",
    "  /**\n",
    "   * Student assignment functions\n",
    "   */\n",
    "  void GenerateSigmaPoints(MatrixXd* Xsig_out);\n",
    "  void AugmentedSigmaPoints(MatrixXd* Xsig_out);\n",
    "  void SigmaPointPrediction(MatrixXd* Xsig_out);\n",
    "  void PredictMeanAndCovariance(VectorXd* x_pred, MatrixXd* P_pred);\n",
    "  void PredictRadarMeasurement(VectorXd* z_out, MatrixXd* S_out);\n",
    "  void UpdateState(VectorXd* x_out, MatrixXd* P_out);\n",
    "\n",
    "};\n",
    "\n",
    "#endif /* UKF_H */\n",
    "```"
   ]
  },
  {
   "cell_type": "markdown",
   "metadata": {},
   "source": [
    "## expected result:\n",
    "Xsig_aug = 5.7441 5.85768 5.7441 5.7441 5.7441 5.7441 5.7441 5.7441 5.63052 5.7441 5.7441 5.7441 5.7441 5.7441 5.7441 1.38 1.34566 1.52806 1.38 1.38 1.38 1.38 1.38 1.41434 1.23194 1.38 1.38 1.38 1.38 1.38 2.2049 2.28414 2.24557 2.29582 2.2049 2.2049 2.2049 2.2049 2.12566 2.16423 2.11398 2.2049 2.2049 2.2049 2.2049 0.5015 0.44339 0.631886 0.516923 0.595227 0.5015 0.5015 0.5015 0.55961 0.371114 0.486077 0.407773 0.5015 0.5015 0.5015 0.3528 0.299973 0.462123 0.376339 0.48417 0.418721 0.3528 0.3528 0.405627 0.243477 0.329261 0.22143 0.286879 0.3528 0.3528 0 0 0 0 0 0 0.34641 0 0 0 0 0 0 -0.34641 0 0 0 0 0 0 0 0 0.34641 0 0 0 0 0 0 -0.34641"
   ]
  },
  {
   "cell_type": "markdown",
   "metadata": {},
   "source": [
    "# 18. Augmentation Assignment 2"
   ]
  },
  {
   "cell_type": "markdown",
   "metadata": {},
   "source": [
    "## Solution\n",
    "Here's my process:\n",
    "\n",
    "1. I added two noise values to the mean of the augmented state. The mean of the noise values is zero, so I set these numbers to zero.\n",
    "2. I filled the augmented covariance matrix with zeros.\n",
    "3. Then I set the top left block of the augmented covariance matrix using the function topLeftcorner from the cheat sheet.\n",
    "4. I manually put the variances into the lower right block of the augmented matrix. This 2x2 block corresponds to the matrix Q.\n",
    "\n",
    "The rest is exactly the same as before, except that I created more sigma points this time.\n",
    "\n",
    "You can find my solution in the code editor below. Feel free to play with it!"
   ]
  },
  {
   "cell_type": "markdown",
   "metadata": {},
   "source": [
    "# ukf.cpp\n",
    "```c++\n",
    "#include <iostream>\n",
    "#include \"ukf.h\"\n",
    "\n",
    "UKF::UKF() {\n",
    "  //TODO Auto-generated constructor stub\n",
    "  Init();\n",
    "}\n",
    "\n",
    "UKF::~UKF() {\n",
    "  //TODO Auto-generated destructor stub\n",
    "}\n",
    "\n",
    "void UKF::Init() {\n",
    "\n",
    "}\n",
    "\n",
    "/*******************************************************************************\n",
    "* Programming assignment functions: \n",
    "*******************************************************************************/\n",
    "\n",
    "void UKF::AugmentedSigmaPoints(MatrixXd* Xsig_out) {\n",
    "\n",
    "  //set state dimension\n",
    "  int n_x = 5;\n",
    "\n",
    "  //set augmented dimension\n",
    "  int n_aug = 7;\n",
    "\n",
    "  //Process noise standard deviation longitudinal acceleration in m/s^2\n",
    "  double std_a = 0.2;\n",
    "\n",
    "  //Process noise standard deviation yaw acceleration in rad/s^2\n",
    "  double std_yawdd = 0.2;\n",
    "\n",
    "  //define spreading parameter\n",
    "  double lambda = 3 - n_aug;\n",
    "\n",
    "  //set example state\n",
    "  VectorXd x = VectorXd(n_x);\n",
    "  x <<   5.7441,\n",
    "         1.3800,\n",
    "         2.2049,\n",
    "         0.5015,\n",
    "         0.3528;\n",
    "\n",
    "  //create example covariance matrix\n",
    "  MatrixXd P = MatrixXd(n_x, n_x);\n",
    "  P <<     0.0043,   -0.0013,    0.0030,   -0.0022,   -0.0020,\n",
    "          -0.0013,    0.0077,    0.0011,    0.0071,    0.0060,\n",
    "           0.0030,    0.0011,    0.0054,    0.0007,    0.0008,\n",
    "          -0.0022,    0.0071,    0.0007,    0.0098,    0.0100,\n",
    "          -0.0020,    0.0060,    0.0008,    0.0100,    0.0123;\n",
    "\n",
    "  //create augmented mean vector\n",
    "  VectorXd x_aug = VectorXd(7);\n",
    "\n",
    "  //create augmented state covariance\n",
    "  MatrixXd P_aug = MatrixXd(7, 7);\n",
    "\n",
    "  //create sigma point matrix\n",
    "  MatrixXd Xsig_aug = MatrixXd(n_aug, 2 * n_aug + 1);\n",
    "\n",
    "/*******************************************************************************\n",
    " * Student part begin\n",
    " ******************************************************************************/\n",
    " \n",
    "  //create augmented mean state\n",
    "  x_aug.head(5) = x;\n",
    "  x_aug(5) = 0;\n",
    "  x_aug(6) = 0;\n",
    "\n",
    "  //create augmented covariance matrix\n",
    "  P_aug.fill(0.0);\n",
    "  P_aug.topLeftCorner(5,5) = P;\n",
    "  P_aug(5,5) = std_a*std_a;\n",
    "  P_aug(6,6) = std_yawdd*std_yawdd;\n",
    "\n",
    "  //create square root matrix\n",
    "  MatrixXd L = P_aug.llt().matrixL();\n",
    "\n",
    "  //create augmented sigma points\n",
    "  Xsig_aug.col(0)  = x_aug;\n",
    "  for (int i = 0; i< n_aug; i++)\n",
    "  {\n",
    "    Xsig_aug.col(i+1)       = x_aug + sqrt(lambda+n_aug) * L.col(i);\n",
    "    Xsig_aug.col(i+1+n_aug) = x_aug - sqrt(lambda+n_aug) * L.col(i);\n",
    "  }\n",
    "  \n",
    "/*******************************************************************************\n",
    " * Student part end\n",
    " ******************************************************************************/\n",
    "\n",
    "  //print result\n",
    "  std::cout << \"Xsig_aug = \" << std::endl << Xsig_aug << std::endl;\n",
    "\n",
    "  //write result\n",
    "  *Xsig_out = Xsig_aug;\n",
    "\n",
    "/* expected result:\n",
    "   Xsig_aug =\n",
    "  5.7441  5.85768   5.7441   5.7441   5.7441   5.7441   5.7441   5.7441  5.63052   5.7441   5.7441   5.7441   5.7441   5.7441   5.7441\n",
    "    1.38  1.34566  1.52806     1.38     1.38     1.38     1.38     1.38  1.41434  1.23194     1.38     1.38     1.38     1.38     1.38\n",
    "  2.2049  2.28414  2.24557  2.29582   2.2049   2.2049   2.2049   2.2049  2.12566  2.16423  2.11398   2.2049   2.2049   2.2049   2.2049\n",
    "  0.5015  0.44339 0.631886 0.516923 0.595227   0.5015   0.5015   0.5015  0.55961 0.371114 0.486077 0.407773   0.5015   0.5015   0.5015\n",
    "  0.3528 0.299973 0.462123 0.376339  0.48417 0.418721   0.3528   0.3528 0.405627 0.243477 0.329261  0.22143 0.286879   0.3528   0.3528\n",
    "       0        0        0        0        0        0  0.34641        0        0        0        0        0        0 -0.34641        0\n",
    "       0        0        0        0        0        0        0  0.34641        0        0        0        0        0        0 -0.34641\n",
    "*/\n",
    "\n",
    "}\n",
    "```"
   ]
  },
  {
   "cell_type": "markdown",
   "metadata": {},
   "source": [
    "# 19. Sigma Point Prediction"
   ]
  },
  {
   "cell_type": "code",
   "execution_count": 11,
   "metadata": {},
   "outputs": [
    {
     "data": {
      "image/jpeg": "[encoded data removed]",
      "text/html": [
       "\n",
       "        <iframe\n",
       "            width=\"960\"\n",
       "            height=\"540\"\n",
       "            src=\"https://www.youtube.com/embed/CWzN9kEVZTo\"\n",
       "            frameborder=\"0\"\n",
       "            allowfullscreen\n",
       "        ></iframe>\n",
       "        "
      ],
      "text/plain": [
       "<IPython.lib.display.YouTubeVideo at 0x10b60f630>"
      ]
     },
     "execution_count": 11,
     "metadata": {},
     "output_type": "execute_result"
    }
   ],
   "source": [
    "YouTubeVideo('CWzN9kEVZTo', width=960, height=540)"
   ]
  },
  {
   "cell_type": "markdown",
   "metadata": {},
   "source": [
    "# 20. Sigma Point Prediction Assignment 1"
   ]
  },
  {
   "cell_type": "code",
   "execution_count": 12,
   "metadata": {},
   "outputs": [
    {
     "data": {
      "image/jpeg": "[encoded data removed]",
      "text/html": [
       "\n",
       "        <iframe\n",
       "            width=\"960\"\n",
       "            height=\"540\"\n",
       "            src=\"https://www.youtube.com/embed/RQvnRpSPUak\"\n",
       "            frameborder=\"0\"\n",
       "            allowfullscreen\n",
       "        ></iframe>\n",
       "        "
      ],
      "text/plain": [
       "<IPython.lib.display.YouTubeVideo at 0x10b60f278>"
      ]
     },
     "execution_count": 12,
     "metadata": {},
     "output_type": "execute_result"
    }
   ],
   "source": [
    "YouTubeVideo('RQvnRpSPUak', width=960, height=540)"
   ]
  },
  {
   "cell_type": "markdown",
   "metadata": {},
   "source": [
    "## Sigma Point Prediction\n",
    "You will be completing the missing code in ukf.cpp, SigmaPointPrediction() function.\n",
    "\n",
    "### Task List\n",
    "- predict sigma points\n",
    "- avoid division by zero\n",
    "- write predicted sigma points into right column\n",
    "\n",
    "## Helpful Equations\n",
    "\n",
    "$x=\\begin{bmatrix}\n",
    "p_x\\\\\n",
    "p_y\\\\\n",
    "v\\\\\n",
    "\\psi\\\\\n",
    "\\dot{\\psi}\n",
    "\\end{bmatrix}$\n",
    "\n",
    "If $\\dot{\\psi}_k$ is not zero\n",
    "\n",
    "$\\text{State}= x_{k+1} = x_k + \\begin{bmatrix}\n",
    "\\frac{v_k}{\\dot{\\psi}_k}(sin(\\psi_k+\\dot{\\psi}_k\\Delta t )-sin(\\psi_k))\\\\\n",
    "\\frac{v_k}{\\dot{\\psi}_k}(-cos(\\psi_k+\\dot{\\psi}_k\\Delta t )+cos(\\psi_k))\\\\\n",
    "0\\\\\n",
    "\\dot{\\psi}_k\\Delta t\\\\\n",
    "0\n",
    "\\end{bmatrix} \n",
    "+\\begin{bmatrix}\n",
    "\\frac{1}{2}(\\Delta t)^2cos(\\psi_k)\\nu_{a,k}\\\\\n",
    "\\frac{1}{2}(\\Delta t)^2sin(\\psi_k)\\nu_{a,k}\\\\\n",
    "\\Delta t\\cdot\\nu_{a,k}\\\\\n",
    "\\frac{1}{2}(\\Delta t)^2\\nu_{\\ddot{\\psi},k}\\\\\n",
    "\\Delta t\\cdot\\nu_{\\ddot{\\psi},k}\n",
    "\\end{bmatrix}$\n",
    "\n",
    "If $\\dot{\\psi}_k$ is zero\n",
    "\n",
    "$\\text{State} =x_{k+1} = x_k + \\begin{bmatrix}\n",
    "v_kcos(\\psi_k)\\Delta t\\\\\n",
    "v_ksin(\\psi_k)\\Delta t\\\\\n",
    "0\\\\\n",
    "\\dot{\\psi}_k\\Delta t\\\\\n",
    "0\n",
    "\\end{bmatrix}\n",
    "+\\begin{bmatrix}\n",
    "\\frac{1}{2}(\\Delta t)^2cos(\\psi_k)\\nu_{a,k}\\\\\n",
    "\\frac{1}{2}(\\Delta t)^2sin(\\psi_k)\\nu_{a,k}\\\\\n",
    "\\Delta t\\cdot\\nu_{a,k}\\\\\n",
    "\\frac{1}{2}(\\Delta t)^2\\nu_{\\ddot{\\psi},k}\\\\\n",
    "\\Delta t\\cdot\\nu_{\\ddot{\\psi},k}\n",
    "\\end{bmatrix}$\n",
    "\n",
    "Notice that when $\\dot{\\psi}_k = 0$, the term $\\dot{\\psi}_k \\Delta t$ would also equal zero.\n"
   ]
  },
  {
   "cell_type": "markdown",
   "metadata": {},
   "source": [
    "## main.cpp\n",
    "\n",
    "```c++\n",
    "#include <iostream>\n",
    "#include \"Dense\"\n",
    "#include <vector>\n",
    "#include \"ukf.h\"\n",
    "\n",
    "using namespace std;\n",
    "using Eigen::MatrixXd;\n",
    "using Eigen::VectorXd;\n",
    "using std::vector;\n",
    "\n",
    "int main() {\n",
    "\n",
    "\t//Create a UKF instance\n",
    "\tUKF ukf;\n",
    "\n",
    "/*******************************************************************************\n",
    "* Programming assignment calls\n",
    "*******************************************************************************/\n",
    "\n",
    "    MatrixXd Xsig_pred = MatrixXd(15, 5);\n",
    "    ukf.SigmaPointPrediction(&Xsig_pred);\n",
    "\n",
    "\treturn 0;\n",
    "}\n",
    "```"
   ]
  },
  {
   "cell_type": "markdown",
   "metadata": {},
   "source": [
    "## utf.cpp\n",
    "```c++\n",
    "#include <iostream>\n",
    "#include \"ukf.h\"\n",
    "\n",
    "UKF::UKF() {\n",
    "  //TODO Auto-generated constructor stub\n",
    "  Init();\n",
    "}\n",
    "\n",
    "UKF::~UKF() {\n",
    "  //TODO Auto-generated destructor stub\n",
    "}\n",
    "\n",
    "void UKF::Init() {\n",
    "\n",
    "}\n",
    "\n",
    "\n",
    "/*******************************************************************************\n",
    "* Programming assignment functions: \n",
    "*******************************************************************************/\n",
    "\n",
    "void UKF::SigmaPointPrediction(MatrixXd* Xsig_out) {\n",
    "\n",
    "  //set state dimension\n",
    "  int n_x = 5;\n",
    "\n",
    "  //set augmented dimension\n",
    "  int n_aug = 7;\n",
    "\n",
    "  //create example sigma point matrix\n",
    "  MatrixXd Xsig_aug = MatrixXd(n_aug, 2 * n_aug + 1);\n",
    "     Xsig_aug <<\n",
    "    5.7441,  5.85768,   5.7441,   5.7441,   5.7441,   5.7441,   5.7441,   5.7441,   5.63052,   5.7441,   5.7441,   5.7441,   5.7441,   5.7441,   5.7441,\n",
    "      1.38,  1.34566,  1.52806,     1.38,     1.38,     1.38,     1.38,     1.38,   1.41434,  1.23194,     1.38,     1.38,     1.38,     1.38,     1.38,\n",
    "    2.2049,  2.28414,  2.24557,  2.29582,   2.2049,   2.2049,   2.2049,   2.2049,   2.12566,  2.16423,  2.11398,   2.2049,   2.2049,   2.2049,   2.2049,\n",
    "    0.5015,  0.44339, 0.631886, 0.516923, 0.595227,   0.5015,   0.5015,   0.5015,   0.55961, 0.371114, 0.486077, 0.407773,   0.5015,   0.5015,   0.5015,\n",
    "    0.3528, 0.299973, 0.462123, 0.376339,  0.48417, 0.418721,   0.3528,   0.3528,  0.405627, 0.243477, 0.329261,  0.22143, 0.286879,   0.3528,   0.3528,\n",
    "         0,        0,        0,        0,        0,        0,  0.34641,        0,         0,        0,        0,        0,        0, -0.34641,        0,\n",
    "         0,        0,        0,        0,        0,        0,        0,  0.34641,         0,        0,        0,        0,        0,        0, -0.34641;\n",
    "\n",
    "  //create matrix with predicted sigma points as columns\n",
    "  MatrixXd Xsig_pred = MatrixXd(n_x, 2 * n_aug + 1);\n",
    "\n",
    "  double delta_t = 0.1; //time diff in sec\n",
    "/*******************************************************************************\n",
    " * Student part begin\n",
    " ******************************************************************************/\n",
    "\n",
    "  //predict sigma points\n",
    "  //avoid division by zero\n",
    "  //write predicted sigma points into right column\n",
    "  \n",
    "\n",
    "/*******************************************************************************\n",
    " * Student part end\n",
    " ******************************************************************************/\n",
    "\n",
    "  //print result\n",
    "  std::cout << \"Xsig_pred = \" << std::endl << Xsig_pred << std::endl;\n",
    "\n",
    "  //write result\n",
    "  *Xsig_out = Xsig_pred;\n",
    "\n",
    "}\n",
    "```"
   ]
  },
  {
   "cell_type": "markdown",
   "metadata": {},
   "source": [
    "## ukf.h\n",
    "```c++\n",
    "#ifndef UKF_H\n",
    "#define UKF_H\n",
    "#include \"Dense\"\n",
    "#include <vector>\n",
    "\n",
    "using Eigen::MatrixXd;\n",
    "using Eigen::VectorXd;\n",
    "\n",
    "class UKF {\n",
    "public:\n",
    "\n",
    "\n",
    "  /**\n",
    "\t * Constructor\n",
    "\t */\n",
    "\tUKF();\n",
    "\n",
    "\t/**\n",
    "\t * Destructor\n",
    "\t */\n",
    "\tvirtual ~UKF();\n",
    "\n",
    "\t/**\n",
    "\t * Init Initializes Unscented Kalman filter\n",
    "\t */\n",
    "\tvoid Init();\n",
    "\n",
    "  /**\n",
    "   * Student assignment functions\n",
    "   */\n",
    "  void GenerateSigmaPoints(MatrixXd* Xsig_out);\n",
    "  void AugmentedSigmaPoints(MatrixXd* Xsig_out);\n",
    "  void SigmaPointPrediction(MatrixXd* Xsig_out);\n",
    "  void PredictMeanAndCovariance(VectorXd* x_pred, MatrixXd* P_pred);\n",
    "  void PredictRadarMeasurement(VectorXd* z_out, MatrixXd* S_out);\n",
    "  void UpdateState(VectorXd* x_out, MatrixXd* P_out);\n",
    "\n",
    "};\n",
    "\n",
    "#endif /* UKF_H */\n",
    "\n",
    "```"
   ]
  },
  {
   "cell_type": "markdown",
   "metadata": {},
   "source": [
    "## expected result:\n",
    "Xsig_pred =\n",
    "\n",
    "5.93553 6.06251 5.92217 5.9415 5.92361 5.93516 5.93705 5.93553 5.80832 5.94481 5.92935 5.94553 5.93589 5.93401 5.93553\n",
    "\n",
    "1.48939 1.44673 1.66484 1.49719 1.508 1.49001 1.49022 1.48939 1.5308 1.31287 1.48182 1.46967 1.48876 1.48855 1.48939\n",
    "\n",
    "2.2049 2.28414 2.24557 2.29582 2.2049 2.2049 2.23954 2.2049 2.12566 2.16423 2.11398 2.2049 2.2049 2.17026 2.2049\n",
    "\n",
    "0.53678 0.473387 0.678098 0.554557 0.643644 0.543372 0.53678 0.538512 0.600173 0.395462 0.519003 0.429916 0.530188 0.53678 0.535048\n",
    "\n",
    "0.3528 0.299973 0.462123 0.376339 0.48417 0.418721 0.3528 0.387441 0.405627 0.243477 0.329261 0.22143 0.286879 0.3528 0.318159\n"
   ]
  },
  {
   "cell_type": "markdown",
   "metadata": {},
   "source": [
    "# 21. Sigma Point Prediction Assignment 2"
   ]
  },
  {
   "cell_type": "markdown",
   "metadata": {},
   "source": [
    "## Solution\n",
    "In this case, the solution is the CTRV process model implemented with C++."
   ]
  },
  {
   "cell_type": "markdown",
   "metadata": {},
   "source": [
    "## ukf.cpp\n",
    "```c++\n",
    "#include <iostream>\n",
    "#include \"ukf.h\"\n",
    "\n",
    "UKF::UKF() {\n",
    "  //TODO Auto-generated constructor stub\n",
    "  Init();\n",
    "}\n",
    "\n",
    "UKF::~UKF() {\n",
    "  //TODO Auto-generated destructor stub\n",
    "}\n",
    "\n",
    "void UKF::Init() {\n",
    "\n",
    "}\n",
    "\n",
    "/*******************************************************************************\n",
    "* Programming assignment functions: \n",
    "*******************************************************************************/\n",
    "\n",
    "void UKF::SigmaPointPrediction(MatrixXd* Xsig_out) {\n",
    "\n",
    "  //set state dimension\n",
    "  int n_x = 5;\n",
    "\n",
    "  //set augmented dimension\n",
    "  int n_aug = 7;\n",
    "\n",
    "  //create example sigma point matrix\n",
    "  MatrixXd Xsig_aug = MatrixXd(n_aug, 2 * n_aug + 1);\n",
    "     Xsig_aug <<\n",
    "    5.7441,  5.85768,   5.7441,   5.7441,   5.7441,   5.7441,   5.7441,   5.7441,   5.63052,   5.7441,   5.7441,   5.7441,   5.7441,   5.7441,   5.7441,\n",
    "      1.38,  1.34566,  1.52806,     1.38,     1.38,     1.38,     1.38,     1.38,   1.41434,  1.23194,     1.38,     1.38,     1.38,     1.38,     1.38,\n",
    "    2.2049,  2.28414,  2.24557,  2.29582,   2.2049,   2.2049,   2.2049,   2.2049,   2.12566,  2.16423,  2.11398,   2.2049,   2.2049,   2.2049,   2.2049,\n",
    "    0.5015,  0.44339, 0.631886, 0.516923, 0.595227,   0.5015,   0.5015,   0.5015,   0.55961, 0.371114, 0.486077, 0.407773,   0.5015,   0.5015,   0.5015,\n",
    "    0.3528, 0.299973, 0.462123, 0.376339,  0.48417, 0.418721,   0.3528,   0.3528,  0.405627, 0.243477, 0.329261,  0.22143, 0.286879,   0.3528,   0.3528,\n",
    "         0,        0,        0,        0,        0,        0,  0.34641,        0,         0,        0,        0,        0,        0, -0.34641,        0,\n",
    "         0,        0,        0,        0,        0,        0,        0,  0.34641,         0,        0,        0,        0,        0,        0, -0.34641;\n",
    "\n",
    "  //create matrix with predicted sigma points as columns\n",
    "  MatrixXd Xsig_pred = MatrixXd(n_x, 2 * n_aug + 1);\n",
    "\n",
    "  double delta_t = 0.1; //time diff in sec\n",
    "/*******************************************************************************\n",
    " * Student part begin\n",
    " ******************************************************************************/\n",
    "\n",
    "  //predict sigma points\n",
    "  for (int i = 0; i< 2*n_aug+1; i++)\n",
    "  {\n",
    "    //extract values for better readability\n",
    "    double p_x = Xsig_aug(0,i);\n",
    "    double p_y = Xsig_aug(1,i);\n",
    "    double v = Xsig_aug(2,i);\n",
    "    double yaw = Xsig_aug(3,i);\n",
    "    double yawd = Xsig_aug(4,i);\n",
    "    double nu_a = Xsig_aug(5,i);\n",
    "    double nu_yawdd = Xsig_aug(6,i);\n",
    "\n",
    "    //predicted state values\n",
    "    double px_p, py_p;\n",
    "\n",
    "    //avoid division by zero\n",
    "    if (fabs(yawd) > 0.001) {\n",
    "        px_p = p_x + v/yawd * ( sin (yaw + yawd*delta_t) - sin(yaw));\n",
    "        py_p = p_y + v/yawd * ( cos(yaw) - cos(yaw+yawd*delta_t) );\n",
    "    }\n",
    "    else {\n",
    "        px_p = p_x + v*delta_t*cos(yaw);\n",
    "        py_p = p_y + v*delta_t*sin(yaw);\n",
    "    }\n",
    "\n",
    "    double v_p = v;\n",
    "    double yaw_p = yaw + yawd*delta_t;\n",
    "    double yawd_p = yawd;\n",
    "\n",
    "    //add noise\n",
    "    px_p = px_p + 0.5*nu_a*delta_t*delta_t * cos(yaw);\n",
    "    py_p = py_p + 0.5*nu_a*delta_t*delta_t * sin(yaw);\n",
    "    v_p = v_p + nu_a*delta_t;\n",
    "\n",
    "    yaw_p = yaw_p + 0.5*nu_yawdd*delta_t*delta_t;\n",
    "    yawd_p = yawd_p + nu_yawdd*delta_t;\n",
    "\n",
    "    //write predicted sigma point into right column\n",
    "    Xsig_pred(0,i) = px_p;\n",
    "    Xsig_pred(1,i) = py_p;\n",
    "    Xsig_pred(2,i) = v_p;\n",
    "    Xsig_pred(3,i) = yaw_p;\n",
    "    Xsig_pred(4,i) = yawd_p;\n",
    "  }\n",
    "\n",
    "/*******************************************************************************\n",
    " * Student part end\n",
    " ******************************************************************************/\n",
    "\n",
    "  //print result\n",
    "  std::cout << \"Xsig_pred = \" << std::endl << Xsig_pred << std::endl;\n",
    "\n",
    "  //write result\n",
    "  *Xsig_out = Xsig_pred;\n",
    "\n",
    "}\n",
    "```"
   ]
  },
  {
   "cell_type": "markdown",
   "metadata": {},
   "source": [
    "## Note:\n",
    "Some students have noticed that transposing initialized dimensions for MatrixXd(15, 5) produces the same result. This is due to the manner in which arguments are passed.\n",
    "\n",
    "In ukf.cpp, a pointer is being passed as a function argument not as a reference:\n",
    "\n",
    "```c++\n",
    "void UKF::GenerateSigmaPoints(MatrixXd* Xsig_out) {\n",
    "     ..... other code ...\n",
    "\n",
    "    //write result\n",
    "    *Xsig_out = Xsig;\n",
    "```\n",
    "\n",
    "Ultimately, we change the contents of the memory location which points to Xsig_out. That is why in this case the initialized dimensions are interchangeable.\n",
    "\n",
    "See [this thread](https://discussions.udacity.com/t/why-the-sample-code-initialize-the-matrix-wrongly-transposed-but-still-gives-correct-results/249159/5) for more detail.\n",
    "\n",
    "## expected result:\n",
    "Xsig_pred =\n",
    "\n",
    "5.93553 6.06251 5.92217 5.9415 5.92361 5.93516 5.93705 5.93553 5.80832 5.94481 5.92935 5.94553 5.93589 5.93401 5.93553\n",
    "\n",
    "1.48939 1.44673 1.66484 1.49719 1.508 1.49001 1.49022 1.48939 1.5308 1.31287 1.48182 1.46967 1.48876 1.48855 1.48939\n",
    "\n",
    "2.2049 2.28414 2.24557 2.29582 2.2049 2.2049 2.23954 2.2049 2.12566 2.16423 2.11398 2.2049 2.2049 2.17026 2.2049\n",
    "\n",
    "0.53678 0.473387 0.678098 0.554557 0.643644 0.543372 0.53678 0.538512 0.600173 0.395462 0.519003 0.429916 0.530188 0.53678 0.535048\n",
    "\n",
    "0.3528 0.299973 0.462123 0.376339 0.48417 0.418721 0.3528 0.387441 0.405627 0.243477 0.329261 0.22143 0.286879 0.3528 0.318159\n"
   ]
  },
  {
   "cell_type": "markdown",
   "metadata": {},
   "source": [
    "# 22. Predicted Mean and Covariance"
   ]
  },
  {
   "cell_type": "code",
   "execution_count": 14,
   "metadata": {},
   "outputs": [
    {
     "data": {
      "image/jpeg": "[encoded data removed]",
      "text/html": [
       "\n",
       "        <iframe\n",
       "            width=\"960\"\n",
       "            height=\"540\"\n",
       "            src=\"https://www.youtube.com/embed/4lPA2cK3C4Y\"\n",
       "            frameborder=\"0\"\n",
       "            allowfullscreen\n",
       "        ></iframe>\n",
       "        "
      ],
      "text/plain": [
       "<IPython.lib.display.YouTubeVideo at 0x10b60f320>"
      ]
     },
     "execution_count": 14,
     "metadata": {},
     "output_type": "execute_result"
    }
   ],
   "source": [
    "YouTubeVideo('4lPA2cK3C4Y', width=960, height=540)"
   ]
  },
  {
   "cell_type": "markdown",
   "metadata": {},
   "source": [
    "## Predicted Mean And Covariance\n",
    "### Note Regarding Sigma Point Generation and Prediction Steps\n",
    "- Sigma Point Generation: Sigma points are generated using Calligraphic-X(k), followed by a nonlinear transformation f(x_k,nu_k).\n",
    "- Sigma Point Prediction: The generated Sigma points are propagated to obtain the state of the system at time k+1. These predicted points are denoted Calligraphic-X(k+1).\n"
   ]
  },
  {
   "cell_type": "markdown",
   "metadata": {},
   "source": [
    "# 23. Predicted Mean and Covariance Assignment 1"
   ]
  },
  {
   "cell_type": "code",
   "execution_count": 15,
   "metadata": {},
   "outputs": [
    {
     "data": {
      "image/jpeg": "[encoded data removed]",
      "text/html": [
       "\n",
       "        <iframe\n",
       "            width=\"960\"\n",
       "            height=\"540\"\n",
       "            src=\"https://www.youtube.com/embed/0vl_wfDpVec\"\n",
       "            frameborder=\"0\"\n",
       "            allowfullscreen\n",
       "        ></iframe>\n",
       "        "
      ],
      "text/plain": [
       "<IPython.lib.display.YouTubeVideo at 0x10b60ff28>"
      ]
     },
     "execution_count": 15,
     "metadata": {},
     "output_type": "execute_result"
    }
   ],
   "source": [
    "YouTubeVideo('0vl_wfDpVec', width=960, height=540)"
   ]
  },
  {
   "cell_type": "markdown",
   "metadata": {},
   "source": [
    "## Predicted Mean and Covariance Assingment\n",
    "You will be completing the missing code in ukf.cpp, PredictMeanAndCovariance() function.\n",
    "\n",
    "### Task List\n",
    "- set weights\n",
    "- predict state mean\n",
    "- predict state covariance matrix\n",
    "\n",
    "## Helpful Equations\n",
    "### Weights\n",
    "\n",
    "$w_i = \\frac{\\lambda}{\\lambda + n_a}, i = 1$\n",
    "\n",
    "$w_i = \\frac{1}{2(\\lambda + n_a)}, i = 2 ... n_\\sigma$\n",
    "\n",
    "### Predicted Mean\n",
    "\n",
    "$x_{k+1|k} = \\sum_{i=1}^{n_\\sigma} w_i X_{k+1|k,i} $\n",
    "\n",
    "### Predicted Covariance\n",
    "\n",
    "$P_{k+1|k} = \\sum_{i=1}^{n_\\sigma} w_i( X_{k+1|k,i} - x_{k+1|k})(X_{k+1|k,i} - x_{k+1|k})^T$\n"
   ]
  },
  {
   "cell_type": "markdown",
   "metadata": {},
   "source": [
    "## main.cpp\n",
    "```c++\n",
    "#include <iostream>\n",
    "#include \"Dense\"\n",
    "#include <vector>\n",
    "#include \"ukf.h\"\n",
    "\n",
    "using namespace std;\n",
    "using Eigen::MatrixXd;\n",
    "using Eigen::VectorXd;\n",
    "using std::vector;\n",
    "\n",
    "int main() {\n",
    "\n",
    "\t//Create a UKF instance\n",
    "\tUKF ukf;\n",
    "\n",
    "/*******************************************************************************\n",
    "* Programming assignment calls\n",
    "*******************************************************************************/\n",
    "    \n",
    "    VectorXd x_pred = VectorXd(5);\n",
    "    MatrixXd P_pred = MatrixXd(5, 5);\n",
    "    ukf.PredictMeanAndCovariance(&x_pred, &P_pred);\n",
    "\n",
    "\treturn 0;\n",
    "}\n",
    "```"
   ]
  },
  {
   "cell_type": "markdown",
   "metadata": {},
   "source": [
    "## ukf.cpp\n",
    "```c++\n",
    "#include <iostream>\n",
    "#include \"ukf.h\"\n",
    "\n",
    "UKF::UKF() {\n",
    "  //TODO Auto-generated constructor stub\n",
    "  Init();\n",
    "}\n",
    "\n",
    "UKF::~UKF() {\n",
    "  //TODO Auto-generated destructor stub\n",
    "}\n",
    "\n",
    "void UKF::Init() {\n",
    "\n",
    "}\n",
    "\n",
    "\n",
    "/*******************************************************************************\n",
    "* Programming assignment functions: \n",
    "*******************************************************************************/\n",
    "\n",
    "void UKF::PredictMeanAndCovariance(VectorXd* x_out, MatrixXd* P_out) {\n",
    "\n",
    "  //set state dimension\n",
    "  int n_x = 5;\n",
    "\n",
    "  //set augmented dimension\n",
    "  int n_aug = 7;\n",
    "\n",
    "  //define spreading parameter\n",
    "  double lambda = 3 - n_aug;\n",
    "\n",
    "  //create example matrix with predicted sigma points\n",
    "  MatrixXd Xsig_pred = MatrixXd(n_x, 2 * n_aug + 1);\n",
    "  Xsig_pred <<\n",
    "         5.9374,  6.0640,   5.925,  5.9436,  5.9266,  5.9374,  5.9389,  5.9374,  5.8106,  5.9457,  5.9310,  5.9465,  5.9374,  5.9359,  5.93744,\n",
    "           1.48,  1.4436,   1.660,  1.4934,  1.5036,    1.48,  1.4868,    1.48,  1.5271,  1.3104,  1.4787,  1.4674,    1.48,  1.4851,    1.486,\n",
    "          2.204,  2.2841,  2.2455,  2.2958,   2.204,   2.204,  2.2395,   2.204,  2.1256,  2.1642,  2.1139,   2.204,   2.204,  2.1702,   2.2049,\n",
    "         0.5367, 0.47338, 0.67809, 0.55455, 0.64364, 0.54337,  0.5367, 0.53851, 0.60017, 0.39546, 0.51900, 0.42991, 0.530188,  0.5367, 0.535048,\n",
    "          0.352, 0.29997, 0.46212, 0.37633,  0.4841, 0.41872,   0.352, 0.38744, 0.40562, 0.24347, 0.32926,  0.2214, 0.28687,   0.352, 0.318159;\n",
    "\n",
    "  //create vector for weights\n",
    "  VectorXd weights = VectorXd(2*n_aug+1);\n",
    "  \n",
    "  //create vector for predicted state\n",
    "  VectorXd x = VectorXd(n_x);\n",
    "\n",
    "  //create covariance matrix for prediction\n",
    "  MatrixXd P = MatrixXd(n_x, n_x);\n",
    "\n",
    "\n",
    "/*******************************************************************************\n",
    " * Student part begin\n",
    " ******************************************************************************/\n",
    "\n",
    "  //set weights\n",
    "  //predict state mean\n",
    "  //predict state covariance matrix\n",
    "\n",
    "\n",
    "/*******************************************************************************\n",
    " * Student part end\n",
    " ******************************************************************************/\n",
    "\n",
    "  //print result\n",
    "  std::cout << \"Predicted state\" << std::endl;\n",
    "  std::cout << x << std::endl;\n",
    "  std::cout << \"Predicted covariance matrix\" << std::endl;\n",
    "  std::cout << P << std::endl;\n",
    "\n",
    "  //write result\n",
    "  *x_out = x;\n",
    "  *P_out = P;\n",
    "}\n",
    "```"
   ]
  },
  {
   "cell_type": "markdown",
   "metadata": {},
   "source": [
    "## ukf.h\n",
    "```c++\n",
    "#ifndef UKF_H\n",
    "#define UKF_H\n",
    "#include \"Dense\"\n",
    "#include <vector>\n",
    "\n",
    "using Eigen::MatrixXd;\n",
    "using Eigen::VectorXd;\n",
    "\n",
    "class UKF {\n",
    "public:\n",
    "\n",
    "\n",
    "  /**\n",
    "\t * Constructor\n",
    "\t */\n",
    "\tUKF();\n",
    "\n",
    "\t/**\n",
    "\t * Destructor\n",
    "\t */\n",
    "\tvirtual ~UKF();\n",
    "\n",
    "\t/**\n",
    "\t * Init Initializes Unscented Kalman filter\n",
    "\t */\n",
    "\tvoid Init();\n",
    "\n",
    "  /**\n",
    "   * Student assignment functions\n",
    "   */\n",
    "  void GenerateSigmaPoints(MatrixXd* Xsig_out);\n",
    "  void AugmentedSigmaPoints(MatrixXd* Xsig_out);\n",
    "  void SigmaPointPrediction(MatrixXd* Xsig_out);\n",
    "  void PredictMeanAndCovariance(VectorXd* x_pred, MatrixXd* P_pred);\n",
    "  void PredictRadarMeasurement(VectorXd* z_out, MatrixXd* S_out);\n",
    "  void UpdateState(VectorXd* x_out, MatrixXd* P_out);\n",
    "\n",
    "};\n",
    "\n",
    "#endif /* UKF_H */\n",
    "```"
   ]
  },
  {
   "cell_type": "markdown",
   "metadata": {},
   "source": [
    "## expected result x:\n",
    " x =\n",
    "5.93637\n",
    "\n",
    "1.49035\n",
    "\n",
    "2.20528\n",
    "\n",
    "0.536853\n",
    "\n",
    "0.353577\n",
    "\n",
    "## expected result p:\n",
    " P =\n",
    "0.00543425 -0.0024053 0.00341576 -0.00348196 -0.00299378\n",
    "\n",
    "-0.0024053 0.010845 0.0014923 0.00980182 0.00791091\n",
    "\n",
    "0.00341576 0.0014923 0.00580129 0.000778632 0.000792973\n",
    "\n",
    "-0.00348196 0.00980182 0.000778632 0.0119238 0.0112491\n",
    "\n",
    "-0.00299378 0.00791091 0.000792973 0.0112491 0.0126972"
   ]
  },
  {
   "cell_type": "markdown",
   "metadata": {},
   "source": [
    "# 24. Predicted Mean and Covariance Assignment 2"
   ]
  },
  {
   "cell_type": "markdown",
   "metadata": {},
   "source": [
    "## Solution\n",
    "The first part of my solution is setting a vector of weights as we discussed in the last video.\n",
    "\n",
    "The predicted state mean is just the implementation of the corresponding equation.\n",
    "\n",
    "When calculating the predicted state covariance matrix, I did something you might not have done. In the equation we always need the difference between the mean predicted state and a sigma points. The problem here is that the state contains an angle. As you have learned before, subtracting angles is a problem for Kalman filters, because the result might be 2π plus a small angle, instead of just a small angle. That’s why I normalize the angle here.\n",
    "\n",
    "Make sure you always normalize when you calculate the difference between angles."
   ]
  },
  {
   "cell_type": "markdown",
   "metadata": {},
   "source": [
    "## ukf.cpp\n",
    "```c++\n",
    "#include <iostream>\n",
    "#include \"ukf.h\"\n",
    "\n",
    "UKF::UKF() {\n",
    "  //TODO Auto-generated constructor stub\n",
    "  Init();\n",
    "}\n",
    "\n",
    "UKF::~UKF() {\n",
    "  //TODO Auto-generated destructor stub\n",
    "}\n",
    "\n",
    "void UKF::Init() {\n",
    "\n",
    "}\n",
    "\n",
    "/*******************************************************************************\n",
    "* Programming assignment functions: \n",
    "*******************************************************************************/\n",
    "\n",
    "void UKF::PredictMeanAndCovariance(VectorXd* x_out, MatrixXd* P_out) {\n",
    "\n",
    "  //set state dimension\n",
    "  int n_x = 5;\n",
    "\n",
    "  //set augmented dimension\n",
    "  int n_aug = 7;\n",
    "\n",
    "  //define spreading parameter\n",
    "  double lambda = 3 - n_aug;\n",
    "\n",
    "  //create example matrix with predicted sigma points\n",
    "  MatrixXd Xsig_pred = MatrixXd(n_x, 2 * n_aug + 1);\n",
    "  Xsig_pred <<\n",
    "         5.9374,  6.0640,   5.925,  5.9436,  5.9266,  5.9374,  5.9389,  5.9374,  5.8106,  5.9457,  5.9310,  5.9465,  5.9374,  5.9359,  5.93744,\n",
    "           1.48,  1.4436,   1.660,  1.4934,  1.5036,    1.48,  1.4868,    1.48,  1.5271,  1.3104,  1.4787,  1.4674,    1.48,  1.4851,    1.486,\n",
    "          2.204,  2.2841,  2.2455,  2.2958,   2.204,   2.204,  2.2395,   2.204,  2.1256,  2.1642,  2.1139,   2.204,   2.204,  2.1702,   2.2049,\n",
    "         0.5367, 0.47338, 0.67809, 0.55455, 0.64364, 0.54337,  0.5367, 0.53851, 0.60017, 0.39546, 0.51900, 0.42991, 0.530188,  0.5367, 0.535048,\n",
    "          0.352, 0.29997, 0.46212, 0.37633,  0.4841, 0.41872,   0.352, 0.38744, 0.40562, 0.24347, 0.32926,  0.2214, 0.28687,   0.352, 0.318159;\n",
    "\n",
    "  //create vector for weights\n",
    "  VectorXd weights = VectorXd(2*n_aug+1);\n",
    "  \n",
    "  //create vector for predicted state\n",
    "  VectorXd x = VectorXd(n_x);\n",
    "\n",
    "  //create covariance matrix for prediction\n",
    "  MatrixXd P = MatrixXd(n_x, n_x);\n",
    "\n",
    "\n",
    "/*******************************************************************************\n",
    " * Student part begin\n",
    " ******************************************************************************/\n",
    "\n",
    "  // set weights\n",
    "  double weight_0 = lambda/(lambda+n_aug);\n",
    "  weights(0) = weight_0;\n",
    "  for (int i=1; i<2*n_aug+1; i++) {  //2n+1 weights\n",
    "    double weight = 0.5/(n_aug+lambda);\n",
    "    weights(i) = weight;\n",
    "  }\n",
    "\n",
    "  //predicted state mean\n",
    "  x.fill(0.0);\n",
    "  for (int i = 0; i < 2 * n_aug + 1; i++) {  //iterate over sigma points\n",
    "    x = x+ weights(i) * Xsig_pred.col(i);\n",
    "  }\n",
    "\n",
    "  //predicted state covariance matrix\n",
    "  P.fill(0.0);\n",
    "  for (int i = 0; i < 2 * n_aug + 1; i++) {  //iterate over sigma points\n",
    "\n",
    "    // state difference\n",
    "    VectorXd x_diff = Xsig_pred.col(i) - x;\n",
    "    //angle normalization\n",
    "    while (x_diff(3)> M_PI) x_diff(3)-=2.*M_PI;\n",
    "    while (x_diff(3)<-M_PI) x_diff(3)+=2.*M_PI;\n",
    "\n",
    "    P = P + weights(i) * x_diff * x_diff.transpose() ;\n",
    "  }\n",
    "\n",
    "\n",
    "/*******************************************************************************\n",
    " * Student part end\n",
    " ******************************************************************************/\n",
    "\n",
    "  //print result\n",
    "  std::cout << \"Predicted state\" << std::endl;\n",
    "  std::cout << x << std::endl;\n",
    "  std::cout << \"Predicted covariance matrix\" << std::endl;\n",
    "  std::cout << P << std::endl;\n",
    "\n",
    "  //write result\n",
    "  *x_out = x;\n",
    "  *P_out = P;\n",
    "}\n",
    "```"
   ]
  },
  {
   "cell_type": "markdown",
   "metadata": {},
   "source": [
    "# 25. Measurement Prediction"
   ]
  },
  {
   "cell_type": "code",
   "execution_count": 16,
   "metadata": {},
   "outputs": [
    {
     "data": {
      "image/jpeg": "[encoded data removed]",
      "text/html": [
       "\n",
       "        <iframe\n",
       "            width=\"960\"\n",
       "            height=\"540\"\n",
       "            src=\"https://www.youtube.com/embed/qDX8nL_OT60\"\n",
       "            frameborder=\"0\"\n",
       "            allowfullscreen\n",
       "        ></iframe>\n",
       "        "
      ],
      "text/plain": [
       "<IPython.lib.display.YouTubeVideo at 0x10b60fef0>"
      ]
     },
     "execution_count": 16,
     "metadata": {},
     "output_type": "execute_result"
    }
   ],
   "source": [
    "YouTubeVideo('qDX8nL_OT60', width=960, height=540)"
   ]
  },
  {
   "cell_type": "markdown",
   "metadata": {},
   "source": [
    "# 26. Predict Radar Measurement Assignment 1"
   ]
  },
  {
   "cell_type": "code",
   "execution_count": 17,
   "metadata": {},
   "outputs": [
    {
     "data": {
      "image/jpeg": "[encoded data removed]",
      "text/html": [
       "\n",
       "        <iframe\n",
       "            width=\"960\"\n",
       "            height=\"540\"\n",
       "            src=\"https://www.youtube.com/embed/GYQeizoj09E\"\n",
       "            frameborder=\"0\"\n",
       "            allowfullscreen\n",
       "        ></iframe>\n",
       "        "
      ],
      "text/plain": [
       "<IPython.lib.display.YouTubeVideo at 0x10b60f470>"
      ]
     },
     "execution_count": 17,
     "metadata": {},
     "output_type": "execute_result"
    }
   ],
   "source": [
    "YouTubeVideo('GYQeizoj09E', width=960, height=540)"
   ]
  },
  {
   "cell_type": "markdown",
   "metadata": {},
   "source": [
    "## Predict Radar Measurements Assignment\n",
    "You will be completing the missing code in ukf.cpp, PredictRadarMeasurement() function.\n",
    "\n",
    "### Task List\n",
    "- transform sigma points into measurement space\n",
    "- calculate mean predicted measurement\n",
    "- calculate measurement covariance matrix S\n",
    "\n",
    "## Helpful Equations\n",
    "\n",
    "### State Vector\n",
    "\n",
    "$x_{k+1|k}=\\begin{bmatrix}\n",
    "p_x\\\\\n",
    "p_y\\\\\n",
    "v\\\\\n",
    "\\psi\\\\\n",
    "\\dot{\\psi}\n",
    "\\end{bmatrix}$\n",
    "\n",
    "### Measurement Vector\n",
    "\n",
    "$z_{k+1|k}=\\begin{bmatrix}\n",
    "\\rho\\\\\n",
    "\\varphi\\\\\n",
    "\\dot{\\rho}\n",
    "\\end{bmatrix}$\n",
    "\n",
    "### Measurement Model\n",
    "\n",
    "$z_{k+1|k}=h(x_{k+1}) + w_{k+1}$\n",
    "\n",
    "\n",
    "$\\rho = \\sqrt{p_x^2+p_y^2}$\n",
    "\n",
    "$\\varphi =arctan(\\frac{p_y}{p_x})$\n",
    "\n",
    "$\\dot{\\rho}=\\frac{p_xcos(\\psi)v+p_ysin(\\psi)v}{\\sqrt{p_x^2+p_y^2}}$\n",
    "\n",
    "### Predicted Measurement Mean\n",
    "\n",
    "$z_{k+1|k} = \\sum_{i=1}^{n_\\sigma} w_i Z_{k+1|k,i}$\n",
    "\n",
    "### Predicted Covariance\n",
    "\n",
    "$S_{k+1|k} = \\sum_{i=1}^{n_\\sigma} w_i( Z_{k+1|k,i} - z_{k+1|k})(Z_{k+1|k,i} - z_{k+1|k})^T + R$\n",
    "\n",
    "$R = E(w_k\\cdot w_k^T) = \\begin{bmatrix}\n",
    "\\sigma_{\\rho}^2 \\qquad 0\\qquad0\\\\\n",
    "0\\qquad\\sigma_{\\varphi}^2 \\qquad 0\\\\\n",
    "0\\qquad0\\qquad\\sigma_{\\dot{\\rho}}^2 \n",
    "\\end{bmatrix}$\n"
   ]
  },
  {
   "cell_type": "markdown",
   "metadata": {},
   "source": [
    "## main.cpp\n",
    "```c++\n",
    "#include <iostream>\n",
    "#include \"Dense\"\n",
    "#include <vector>\n",
    "#include \"ukf.h\"\n",
    "\n",
    "using namespace std;\n",
    "using Eigen::MatrixXd;\n",
    "using Eigen::VectorXd;\n",
    "using std::vector;\n",
    "\n",
    "int main() {\n",
    "\n",
    "\t//Create a UKF instance\n",
    "\tUKF ukf;\n",
    "\n",
    "/*******************************************************************************\n",
    "* Programming assignment calls\n",
    "*******************************************************************************/\n",
    "    \n",
    "    VectorXd z_out = VectorXd(3);\n",
    "    MatrixXd S_out = MatrixXd(3, 3);\n",
    "    ukf.PredictRadarMeasurement(&z_out, &S_out);\n",
    "\n",
    "\treturn 0;\n",
    "}\n",
    "```"
   ]
  },
  {
   "cell_type": "markdown",
   "metadata": {},
   "source": [
    "## ukf.h\n",
    "```c++\n",
    "#ifndef UKF_H\n",
    "#define UKF_H\n",
    "#include \"Dense\"\n",
    "#include <vector>\n",
    "\n",
    "using Eigen::MatrixXd;\n",
    "using Eigen::VectorXd;\n",
    "\n",
    "class UKF {\n",
    "public:\n",
    "\n",
    "\n",
    "  /**\n",
    "\t * Constructor\n",
    "\t */\n",
    "\tUKF();\n",
    "\n",
    "\t/**\n",
    "\t * Destructor\n",
    "\t */\n",
    "\tvirtual ~UKF();\n",
    "\n",
    "\t/**\n",
    "\t * Init Initializes Unscented Kalman filter\n",
    "\t */\n",
    "\tvoid Init();\n",
    "\n",
    "  /**\n",
    "   * Student assignment functions\n",
    "   */\n",
    "  void GenerateSigmaPoints(MatrixXd* Xsig_out);\n",
    "  void AugmentedSigmaPoints(MatrixXd* Xsig_out);\n",
    "  void SigmaPointPrediction(MatrixXd* Xsig_out);\n",
    "  void PredictMeanAndCovariance(VectorXd* x_pred, MatrixXd* P_pred);\n",
    "  void PredictRadarMeasurement(VectorXd* z_out, MatrixXd* S_out);\n",
    "  void UpdateState(VectorXd* x_out, MatrixXd* P_out);\n",
    "\n",
    "};\n",
    "\n",
    "#endif /* UKF_H */\n",
    "```"
   ]
  },
  {
   "cell_type": "markdown",
   "metadata": {},
   "source": [
    "## ukf.cpp\n",
    "```c++\n",
    "#include <iostream>\n",
    "#include \"ukf.h\"\n",
    "\n",
    "UKF::UKF() {\n",
    "  //TODO Auto-generated constructor stub\n",
    "  Init();\n",
    "}\n",
    "\n",
    "UKF::~UKF() {\n",
    "  //TODO Auto-generated destructor stub\n",
    "}\n",
    "\n",
    "void UKF::Init() {\n",
    "\n",
    "}\n",
    "\n",
    "/*******************************************************************************\n",
    "* Programming assignment functions: \n",
    "*******************************************************************************/\n",
    "\n",
    "void UKF::PredictRadarMeasurement(VectorXd* z_out, MatrixXd* S_out) {\n",
    "\n",
    "  //set state dimension\n",
    "  int n_x = 5;\n",
    "\n",
    "  //set augmented dimension\n",
    "  int n_aug = 7;\n",
    "\n",
    "  //set measurement dimension, radar can measure r, phi, and r_dot\n",
    "  int n_z = 3;\n",
    "\n",
    "  //define spreading parameter\n",
    "  double lambda = 3 - n_aug;\n",
    "\n",
    "  //set vector for weights\n",
    "  VectorXd weights = VectorXd(2*n_aug+1);\n",
    "   double weight_0 = lambda/(lambda+n_aug);\n",
    "  weights(0) = weight_0;\n",
    "  for (int i=1; i<2*n_aug+1; i++) {  \n",
    "    double weight = 0.5/(n_aug+lambda);\n",
    "    weights(i) = weight;\n",
    "  }\n",
    "\n",
    "  //radar measurement noise standard deviation radius in m\n",
    "  double std_radr = 0.3;\n",
    "\n",
    "  //radar measurement noise standard deviation angle in rad\n",
    "  double std_radphi = 0.0175;\n",
    "\n",
    "  //radar measurement noise standard deviation radius change in m/s\n",
    "  double std_radrd = 0.1;\n",
    "\n",
    "  //create example matrix with predicted sigma points\n",
    "  MatrixXd Xsig_pred = MatrixXd(n_x, 2 * n_aug + 1);\n",
    "  Xsig_pred <<\n",
    "         5.9374,  6.0640,   5.925,  5.9436,  5.9266,  5.9374,  5.9389,  5.9374,  5.8106,  5.9457,  5.9310,  5.9465,  5.9374,  5.9359,  5.93744,\n",
    "           1.48,  1.4436,   1.660,  1.4934,  1.5036,    1.48,  1.4868,    1.48,  1.5271,  1.3104,  1.4787,  1.4674,    1.48,  1.4851,    1.486,\n",
    "          2.204,  2.2841,  2.2455,  2.2958,   2.204,   2.204,  2.2395,   2.204,  2.1256,  2.1642,  2.1139,   2.204,   2.204,  2.1702,   2.2049,\n",
    "         0.5367, 0.47338, 0.67809, 0.55455, 0.64364, 0.54337,  0.5367, 0.53851, 0.60017, 0.39546, 0.51900, 0.42991, 0.530188,  0.5367, 0.535048,\n",
    "          0.352, 0.29997, 0.46212, 0.37633,  0.4841, 0.41872,   0.352, 0.38744, 0.40562, 0.24347, 0.32926,  0.2214, 0.28687,   0.352, 0.318159;\n",
    "\n",
    "  //create matrix for sigma points in measurement space\n",
    "  MatrixXd Zsig = MatrixXd(n_z, 2 * n_aug + 1);\n",
    "\n",
    "  //mean predicted measurement\n",
    "  VectorXd z_pred = VectorXd(n_z);\n",
    "  \n",
    "  //measurement covariance matrix S\n",
    "  MatrixXd S = MatrixXd(n_z,n_z);\n",
    "\n",
    "/*******************************************************************************\n",
    " * Student part begin\n",
    " ******************************************************************************/\n",
    "\n",
    "  //transform sigma points into measurement space\n",
    "  //calculate mean predicted measurement\n",
    "  //calculate innovation covariance matrix S\n",
    "\n",
    "  \n",
    "/*******************************************************************************\n",
    " * Student part end\n",
    " ******************************************************************************/\n",
    "\n",
    "  //print result\n",
    "  std::cout << \"z_pred: \" << std::endl << z_pred << std::endl;\n",
    "  std::cout << \"S: \" << std::endl << S << std::endl;\n",
    "\n",
    "  //write result\n",
    "  *z_out = z_pred;\n",
    "  *S_out = S;\n",
    "}\n",
    "```"
   ]
  },
  {
   "cell_type": "markdown",
   "metadata": {},
   "source": [
    "### xpected result z_out:\n",
    " z_pred =\n",
    "6.12155\n",
    "\n",
    "0.245993\n",
    "\n",
    "2.10313\n",
    "\n",
    "### expected result p:\n",
    " S =\n",
    "0.0946171 -0.000139448 0.00407016\n",
    "\n",
    "-0.000139448 0.000617548 -0.000770652\n",
    "\n",
    "0.00407016 -0.000770652 0.0180917"
   ]
  },
  {
   "cell_type": "markdown",
   "metadata": {},
   "source": [
    "## 27. Predict Radar Measurement Assignment 2"
   ]
  },
  {
   "cell_type": "markdown",
   "metadata": {},
   "source": [
    "## Solution\n",
    "Take a look below for our solution.\n"
   ]
  },
  {
   "cell_type": "markdown",
   "metadata": {},
   "source": [
    "## ukf.cpp\n",
    "```c++\n",
    "#include <iostream>\n",
    "#include \"ukf.h\"\n",
    "\n",
    "UKF::UKF() {\n",
    "  //TODO Auto-generated constructor stub\n",
    "  Init();\n",
    "}\n",
    "\n",
    "UKF::~UKF() {\n",
    "  //TODO Auto-generated destructor stub\n",
    "}\n",
    "\n",
    "void UKF::Init() {\n",
    "\n",
    "}\n",
    "\n",
    "/*******************************************************************************\n",
    "* Programming assignment functions: \n",
    "*******************************************************************************/\n",
    "\n",
    "void UKF::PredictRadarMeasurement(VectorXd* z_out, MatrixXd* S_out) {\n",
    "\n",
    "  //set state dimension\n",
    "  int n_x = 5;\n",
    "\n",
    "  //set augmented dimension\n",
    "  int n_aug = 7;\n",
    "\n",
    "  //set measurement dimension, radar can measure r, phi, and r_dot\n",
    "  int n_z = 3;\n",
    "\n",
    "  //define spreading parameter\n",
    "  double lambda = 3 - n_aug;\n",
    "\n",
    "  //set vector for weights\n",
    "  VectorXd weights = VectorXd(2*n_aug+1);\n",
    "   double weight_0 = lambda/(lambda+n_aug);\n",
    "  weights(0) = weight_0;\n",
    "  for (int i=1; i<2*n_aug+1; i++) {  \n",
    "    double weight = 0.5/(n_aug+lambda);\n",
    "    weights(i) = weight;\n",
    "  }\n",
    "\n",
    "  //radar measurement noise standard deviation radius in m\n",
    "  double std_radr = 0.3;\n",
    "\n",
    "  //radar measurement noise standard deviation angle in rad\n",
    "  double std_radphi = 0.0175;\n",
    "\n",
    "  //radar measurement noise standard deviation radius change in m/s\n",
    "  double std_radrd = 0.1;\n",
    "\n",
    "  //create example matrix with predicted sigma points\n",
    "  MatrixXd Xsig_pred = MatrixXd(n_x, 2 * n_aug + 1);\n",
    "  Xsig_pred <<\n",
    "         5.9374,  6.0640,   5.925,  5.9436,  5.9266,  5.9374,  5.9389,  5.9374,  5.8106,  5.9457,  5.9310,  5.9465,  5.9374,  5.9359,  5.93744,\n",
    "           1.48,  1.4436,   1.660,  1.4934,  1.5036,    1.48,  1.4868,    1.48,  1.5271,  1.3104,  1.4787,  1.4674,    1.48,  1.4851,    1.486,\n",
    "          2.204,  2.2841,  2.2455,  2.2958,   2.204,   2.204,  2.2395,   2.204,  2.1256,  2.1642,  2.1139,   2.204,   2.204,  2.1702,   2.2049,\n",
    "         0.5367, 0.47338, 0.67809, 0.55455, 0.64364, 0.54337,  0.5367, 0.53851, 0.60017, 0.39546, 0.51900, 0.42991, 0.530188,  0.5367, 0.535048,\n",
    "          0.352, 0.29997, 0.46212, 0.37633,  0.4841, 0.41872,   0.352, 0.38744, 0.40562, 0.24347, 0.32926,  0.2214, 0.28687,   0.352, 0.318159;\n",
    "\n",
    "  //create matrix for sigma points in measurement space\n",
    "  MatrixXd Zsig = MatrixXd(n_z, 2 * n_aug + 1);\n",
    "\n",
    "/*******************************************************************************\n",
    " * Student part begin\n",
    " ******************************************************************************/\n",
    "\n",
    "  //transform sigma points into measurement space\n",
    "  for (int i = 0; i < 2 * n_aug + 1; i++) {  //2n+1 simga points\n",
    "\n",
    "    // extract values for better readibility\n",
    "    double p_x = Xsig_pred(0,i);\n",
    "    double p_y = Xsig_pred(1,i);\n",
    "    double v  = Xsig_pred(2,i);\n",
    "    double yaw = Xsig_pred(3,i);\n",
    "\n",
    "    double v1 = cos(yaw)*v;\n",
    "    double v2 = sin(yaw)*v;\n",
    "\n",
    "    // measurement model\n",
    "    Zsig(0,i) = sqrt(p_x*p_x + p_y*p_y);                        //r\n",
    "    Zsig(1,i) = atan2(p_y,p_x);                                 //phi\n",
    "    Zsig(2,i) = (p_x*v1 + p_y*v2 ) / sqrt(p_x*p_x + p_y*p_y);   //r_dot\n",
    "  }\n",
    "\n",
    "  //mean predicted measurement\n",
    "  VectorXd z_pred = VectorXd(n_z);\n",
    "  z_pred.fill(0.0);\n",
    "  for (int i=0; i < 2*n_aug+1; i++) {\n",
    "      z_pred = z_pred + weights(i) * Zsig.col(i);\n",
    "  }\n",
    "\n",
    "  //innovation covariance matrix S\n",
    "  MatrixXd S = MatrixXd(n_z,n_z);\n",
    "  S.fill(0.0);\n",
    "  for (int i = 0; i < 2 * n_aug + 1; i++) {  //2n+1 simga points\n",
    "    //residual\n",
    "    VectorXd z_diff = Zsig.col(i) - z_pred;\n",
    "\n",
    "    //angle normalization\n",
    "    while (z_diff(1)> M_PI) z_diff(1)-=2.*M_PI;\n",
    "    while (z_diff(1)<-M_PI) z_diff(1)+=2.*M_PI;\n",
    "\n",
    "    S = S + weights(i) * z_diff * z_diff.transpose();\n",
    "  }\n",
    "\n",
    "  //add measurement noise covariance matrix\n",
    "  MatrixXd R = MatrixXd(n_z,n_z);\n",
    "  R <<    std_radr*std_radr, 0, 0,\n",
    "          0, std_radphi*std_radphi, 0,\n",
    "          0, 0,std_radrd*std_radrd;\n",
    "  S = S + R;\n",
    "\n",
    "  \n",
    "/*******************************************************************************\n",
    " * Student part end\n",
    " ******************************************************************************/\n",
    "\n",
    "  //print result\n",
    "  std::cout << \"z_pred: \" << std::endl << z_pred << std::endl;\n",
    "  std::cout << \"S: \" << std::endl << S << std::endl;\n",
    "\n",
    "  //write result\n",
    "  *z_out = z_pred;\n",
    "  *S_out = S;\n",
    "}\n",
    "```"
   ]
  },
  {
   "cell_type": "code",
   "execution_count": null,
   "metadata": {
    "collapsed": true
   },
   "outputs": [],
   "source": []
  }
 ],
 "metadata": {
  "kernelspec": {
   "display_name": "Python 3",
   "language": "python",
   "name": "python3"
  },
  "language_info": {
   "codemirror_mode": {
    "name": "ipython",
    "version": 3
   },
   "file_extension": ".py",
   "mimetype": "text/x-python",
   "name": "python",
   "nbconvert_exporter": "python",
   "pygments_lexer": "ipython3",
   "version": "3.6.1"
  }
 },
 "nbformat": 4,
 "nbformat_minor": 2
}
