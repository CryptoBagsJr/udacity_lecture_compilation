{
 "cells": [
  {
   "cell_type": "code",
   "execution_count": 1,
   "metadata": {
    "collapsed": true
   },
   "outputs": [],
   "source": [
    "from IPython.display import YouTubeVideo"
   ]
  },
  {
   "cell_type": "markdown",
   "metadata": {},
   "source": [
    "# 1. Intro to Unscented Kalman Filter Project"
   ]
  },
  {
   "cell_type": "markdown",
   "metadata": {},
   "source": [
    "## Project Introduction\n",
    "Now it is time to implement an unscented Kalman filter using the CTRV motion model. You will be using the same bicycle simulation data set from the extended Kalman filter project. That way you can compare your results with the EKF project.\n",
    "\n",
    "Remember that all Kalman filters have the same three steps:\n",
    "\n",
    "- Initialization\n",
    "- Prediction\n",
    "- Update\n",
    "\n",
    "A standard Kalman filter can only handle linear equations. Both the extended Kalman filter and the unscented Kalman filter allow you to use non-linear equations; the difference between EKF and UKF is how they handle non-linear equations. But the basics are the same: initialize, predict, update.\n",
    "\n",
    "## Rubric\n",
    "Take a look at [the rubric](https://review.udacity.com/#!/rubrics/783/view) before you get started.\n",
    "\n",
    "## Project Resources\n",
    "We have provided a [project repository](https://github.com/udacity/CarND-Unscented-Kalman-Filter-Project) with starter code.\n",
    "\n",
    "The repository contains:\n",
    "\n",
    "- starter code in the src folder\n",
    "- a README file with instructions on compiling the code\n",
    "- CMakeLists.txt file that will be used when compiling your code (you do not need to change this file)\n",
    "\n",
    "## Using GitHub and Creating Effective READMEs\n",
    "If you are unfamiliar with GitHub , Udacity has a brief [GitHub tutorial](http://blog.udacity.com/2015/06/a-beginners-git-github-tutorial.html) to get you started. Udacity also provides a more detailed free [course on git and GitHub](https://www.udacity.com/course/how-to-use-git-and-github--ud775).\n",
    "\n",
    "To learn about REAMDE files and Markdown, Udacity provides a free course on READMEs, as well.\n",
    "\n",
    "GitHub also provides a [tutorial](https://guides.github.com/features/mastering-markdown/) about creating Markdown files.\n",
    "\n",
    "## Dependencies\n",
    "Keep in mind that the minimum project dependency versions are:\n",
    "\n",
    "- cmake: 3.5\n",
    "    - All OSes: click here for installation instructions\n",
    "- make: 4.1 (Linux and Mac), 3.81 (Windows)\n",
    "    - Linux: make is installed by default on most Linux distros\n",
    "    - Mac: install Xcode command line tools to get make\n",
    "    - Windows: Click here for installation instructions\n",
    "- gcc/g++: 5.4\n",
    "    - Linux: gcc / g++ is installed by default on most Linux distros\n",
    "    - Mac: same deal as make - install Xcode command line tools\n",
    "    - Windows: recommend using MinGW\n",
    "\n",
    "## Optional Resources\n",
    "To complete the project, you only need the files in the github repo; however, we are also providing some extra resources that you can use to develop your solution:\n",
    "\n",
    "- A [Sensor Fusion utilities repo](https://github.com/udacity/CarND-Mercedes-SF-Utilities) containing Matlab scripts that will generate more sample data (generating your own sample data is completely optional)\n",
    "- A visualization package that you can also find within [the Sensor Fusion utilities repo](https://github.com/udacity/CarND-Mercedes-SF-Utilities)\n",
    "- a 2-dimensional Unity simulator for visualizing your results. See the \"2-D Unity Simulator\" lecture slides for more information.\n"
   ]
  },
  {
   "cell_type": "markdown",
   "metadata": {},
   "source": [
    "# 2. File Structure"
   ]
  },
  {
   "cell_type": "markdown",
   "metadata": {},
   "source": [
    "## Files in the Github src Folder\n",
    "The files you need to work with are in the src folder of the github repository.\n",
    "\n",
    "- main.cpp - reads in data, calls a function to run the Unscented Kalman filter, calls a function to calculate RMSE\n",
    "- ukf.cpp - initializes the Unscented Kalman filter, calls the predict and update function, defines the predict and update functions\n",
    "- tools.cpp - function to calculate RMSE\n",
    "\n",
    "The only files you need to modify are ukf.cpp and tools.cpp.\n",
    "\n",
    "## Data\n",
    "The data file information is provided by the simulator and is the same data files from EKF. Again each line in the data file represents either a lidar or radar measurement marked by \"L\" or \"R\" on the starting line. The next columns are either the two lidar position measurements (x,y) or the three radar position measurements (rho, phi, rho_dot). Then comes the time stamp and finally the ground truth values for x, y, vx, vy, yaw, yawrate.\n",
    "\n",
    "Although the data set contains values for yaw and yawrate ground truth, there is no need to use these values. main.cpp does not use these values, and you are only expected to calculate RMSE for x, y vx and vy. You can compare your vx and vy RMSE values from the UKF project and the EKF project. For UKF, vx and vy RMSE should be lower than for EKF; this is because we are using a more detailed motion model and UKF is also known for handling non-linear equations better than EKF."
   ]
  },
  {
   "cell_type": "markdown",
   "metadata": {},
   "source": [
    "# 3. Project Code"
   ]
  },
  {
   "cell_type": "markdown",
   "metadata": {},
   "source": [
    "The project has two files that you will need to modify: ukf.cpp and tools.cpp\n",
    "\n",
    "## UKF.cpp\n",
    "The ukf.cpp provides a template for your unscented Kalman filter code. The first step will be to initialize your parameters and matrices Here is a snippet from that part of the code:\n",
    "\n",
    "```c++\n",
    "/**\n",
    " * Initializes Unscented Kalman filter\n",
    " */\n",
    "UKF::UKF() {\n",
    "  // if this is false, laser measurements will be ignored (except during init)\n",
    "  use_laser_ = true;\n",
    "\n",
    "  // if this is false, radar measurements will be ignored (except during init)\n",
    "  use_radar_ = true;\n",
    "\n",
    ". . .\n",
    "```\n",
    "\n",
    "### Tuning Process Noise\n",
    "We have provided parameter values for measurement noise as well as process noise. The measurement noise values should not be changed; these are provided by the sensor manufacturer.\n",
    "\n",
    "The values for the process noise std_a_ and std_yawdd_ are both set to 30. These will need to be adjusted in order to get your Kalman filter working. Think about what a standard deviation of 30 means. For a Gaussian distribution, we expect the acceleration to be between $−60\\frac{m}{s^2}$ and $+60\\frac{m}{s^2}$ or $−60\\frac{rad}{s^2}$ and $+60\\frac{rad}{s^2}$ ninety-five percent of the time .\n",
    "\n",
    "That seems quite high! To put those values in perspective, the fastest measured linear acceleration for a street legal sports car is currently 0 to 60 mph in 2.2 seconds. 0 to 60 mph in 2.2 seconds is about $12\\frac{m}{s^2}$. The bike simulation probably tends to have even lower acceleration.\n",
    "\n",
    "Once your unscented Kalman filter is coded, you'll have to experiment with different process noise values to try and lower RMSE.\n",
    "\n",
    "### Initializing Variables\n",
    "You will need to initialize other variables besides the ones given in the ukf.cpp template. We have defined all of the variables that you will need in ukf.h. You can look at ukf.h to see what those variables are called, but there is no need to modify ukf.h.\n",
    "\n",
    "Pay special attention to how you initialize x and P. For more information go back to the unscented Kalman filter lectures notes titled \"What to Expect from the Project\".\n",
    "\n",
    "### Prediction and Update\n",
    "The rest of the code template contains functions for running the prediction and update steps:\n",
    "\n",
    "```c++\n",
    "void UKF::ProcessMeasurement(MeasurementPackage meas_package) {\n",
    "  /**\n",
    "  TODO:\n",
    "  Complete this function! Make sure you switch between lidar and radar\n",
    "  measurements.\n",
    "  */\n",
    "}\n",
    "\n",
    "/**\n",
    " * Predicts sigma points, the state, and the state covariance matrix.\n",
    " * @param {double} delta_t the change in time (in seconds) between the last\n",
    " * measurement and this one.\n",
    " */\n",
    "void UKF::Prediction(double delta_t) {\n",
    "  /**\n",
    "  TODO:\n",
    "  Complete this function! Estimate the object's location. Modify the state\n",
    "  vector, x_. Predict sigma points, the state, and the state covariance matrix.\n",
    "  */\n",
    "}\n",
    "\n",
    "/**\n",
    " * Updates the state and the state covariance matrix using a laser measurement.\n",
    " * @param {MeasurementPackage} meas_package\n",
    " */\n",
    "void UKF::UpdateLidar(MeasurementPackage meas_package) {\n",
    "  /**\n",
    "  TODO:\n",
    "  Complete this function! Use lidar data to update the belief about the object's\n",
    "  position. Modify the state vector, x_, and covariance, P_.\n",
    "  You'll also need to calculate the lidar NIS.\n",
    "  */\n",
    "}\n",
    "\n",
    "/**\n",
    " * Updates the state and the state covariance matrix using a radar measurement.\n",
    " * @param {MeasurementPackage} meas_package\n",
    " */\n",
    "void UKF::UpdateRadar(MeasurementPackage meas_package) {\n",
    "  /**\n",
    "  TODO:\n",
    "  Complete this function! Use radar data to update the belief about the object's\n",
    "  position. Modify the state vector, x_, and covariance, P_.\n",
    "  You'll also need to calculate the radar NIS.\n",
    "  */\n",
    "```\n",
    "\n",
    "As a reminder, the ProcessMeasurement() function gets called in main.cpp. The main.cpp code contains a for loop that iterates through the data file one line at a time. For each line in the data file, ProcessMeasurement() gets called sending the sensor data to ukf.cpp\n",
    "\n",
    "## tools.cpp\n",
    "The tools.cpp file is similar to the EKF tools file. For this project, you only need to calculate RMSE.\n",
    "\n",
    "```c++\n",
    "VectorXd Tools::CalculateRMSE(const vector<VectorXd> &estimations,\n",
    "                              const vector<VectorXd> &ground_truth) {\n",
    "  /**\n",
    "  TODO:\n",
    "    * Calculate the RMSE here.\n",
    "  */\n",
    "}\n",
    "```\n",
    "\n",
    "### EKF Versus UKF Repositories\n",
    "The EKF and UKF repositories are similar, but have small differences.\n",
    "\n",
    "In the EKF project, there was a separate KalmanFilter class for storing variables and calling the predict and update steps. In this project all of the Kalman filter code will go in the ukf.cpp file.\n",
    "\n",
    "Also as part of your code, you will need to store laser and radar NIS. The ukf.cpp starter code shows where to calculate NIS.\n"
   ]
  },
  {
   "cell_type": "markdown",
   "metadata": {},
   "source": [
    "# 4. Tips"
   ]
  },
  {
   "cell_type": "markdown",
   "metadata": {},
   "source": [
    "Here are a few tips to keep in mind as you develop your project.\n",
    "\n",
    "## Tips\n",
    "### Check out the coding quizzes and coding quiz answers from the lesson\n",
    "- Use the coding quizzes from the lecture to help guide you. You have already implemented the prediction step and radar update step for the unscented Kalman filter. In the project, you will also need to code the update step for lidar.\n",
    "\n",
    "### Normalize Angles\n",
    "- Don't forget to normalize angles so that angles are between −π and π. The lectures explained how to do this.\n",
    "\n",
    "### Don't Forget to Tune Parameters and Initialize Variables\n",
    "- In the starter code, we have given values for the process noise and measurement noise. You will need to tune the process noise parameters std_a_ and std_yawdd_ in order to get your solution working on both datasets. The measurement noise parameters for lidar and radar should be left as given.\n",
    "- You will also need to initialize your state vector x and state covariance matrix P with appropriate values.\n",
    "- If you are having trouble finding appropriate values for your parameters, consider analyzing the data file first. Between time intervals, how much does the object tend to accelerate? What is the maximum acceleration? What is the standard deviation of the acceleration? You can calculate approximate accelerations by dividing changes in velocity by the change in time.\n",
    "\n",
    "### Check for Divide By Zero\n",
    "- Check for divides by zero.\n",
    "\n",
    "### Debug\n",
    "- If you implement your solution based on the code taught in the unscented Kalman filter lesson and also find appropriate parameters, you can reach the required RMSE values in the rubric! If you find your code hangs, try adding print statements to figure out why. Your code might be correct but you might need to do more parameter tuning or adjust your initialization values.\n",
    "\n",
    "## Ideas for Standing out\n",
    "- Use NIS to help tune your parameters\n",
    "- Visualize the ground truth, sensor measurements, and your Kalman filter results\n",
    "- Compare your UKF and EKF project results. Both projects use the same data file. RMSE, especially for $v_x$ and $v_y$ should be lower for the UKF project than the EKF project. Why might that be?"
   ]
  },
  {
   "cell_type": "markdown",
   "metadata": {},
   "source": [
    "# 5. Bonus Challenge"
   ]
  },
  {
   "cell_type": "markdown",
   "metadata": {},
   "source": [
    "## Catch the Run Away Car with UKF\n",
    "Once you have your Unscented Kalman Filter working well, why not try it out on this extra challenge. In [Artificial Intelligence for Robotics](https://classroom.udacity.com/courses/cs373/lessons/672478550/concepts/7831886840923), Sebastian's final project was to catch a run away robot moving in a continuous circle with constant velocity. This bonus challenge revisits that same problem but with the implementation of an Unscented Kalman Filter.\n",
    "\n",
    "The run away car in this case will be being sensed by a stationary sensor, that is able to measure both noisy lidar and radar data. The capture vehicle will need to use these measurements to close in on the run away car. To capture the the run away car the capture vehicle needs to come within .1 unit distance of its position. However the capture car and the run away car have the same max velocity, so if the capture vehicle wants to catch the car, it will need to predict where the car will be ahead of time.\n",
    "\n",
    "The Github repository for this project can be found [here](https://github.com/udacity/CarND-Catch-Run-Away-Car-UKF) and include the program files that allow you to set up and run c++ uWebSocketIO, which is used to communicate with the simulator. The simulator provides the script the noisy lidar and radar data of the run away car and the capture car's position and heading, the script feeds back a desired distance and heading that the capture car will execute in the simulator. The video below shows what it looks like when the capture car successfully deploys a UKF to catch the run away car. Of course don't feel like you have to use the same strategy from the video, there are many different ways to catch the car.\n",
    "\n",
    "In the simulator you can also set the noise parameters for lidar and radar to whatever you want. With how much noise are you still able to catch the car?"
   ]
  },
  {
   "cell_type": "code",
   "execution_count": 2,
   "metadata": {},
   "outputs": [
    {
     "data": {
      "image/jpeg": "[encoded data removed]",
      "text/html": [
       "\n",
       "        <iframe\n",
       "            width=\"960\"\n",
       "            height=\"540\"\n",
       "            src=\"https://www.youtube.com/embed/klDOvr29KfM\"\n",
       "            frameborder=\"0\"\n",
       "            allowfullscreen\n",
       "        ></iframe>\n",
       "        "
      ],
      "text/plain": [
       "<IPython.lib.display.YouTubeVideo at 0x104bcebe0>"
      ]
     },
     "execution_count": 2,
     "metadata": {},
     "output_type": "execute_result"
    }
   ],
   "source": [
    "YouTubeVideo('klDOvr29KfM', width=960, height=540)"
   ]
  },
  {
   "cell_type": "markdown",
   "metadata": {},
   "source": [
    "# 6. Unscented Kalman Filters"
   ]
  },
  {
   "cell_type": "markdown",
   "metadata": {},
   "source": [
    "## Project Submission\n",
    "1. Clone/fork the project's template files from the [project repository](https://github.com/udacity/CarND-Unscented-Kalman-Filter-Project). (Note: Please do not submit your project as a pull request against our repo!)\n",
    "2. Clone the visualization and data generation utilities from the utilities repository.\n",
    "3. Build an Unscented Kalman Filter by applying the general processing flow as described in the previous lesson.\n",
    "4. Test your code!\n",
    "5. When you achieve an RMSE below the required values, submit your project! You can check the project rubric before submitting."
   ]
  },
  {
   "cell_type": "code",
   "execution_count": null,
   "metadata": {
    "collapsed": true
   },
   "outputs": [],
   "source": []
  }
 ],
 "metadata": {
  "kernelspec": {
   "display_name": "Python 3",
   "language": "python",
   "name": "python3"
  },
  "language_info": {
   "codemirror_mode": {
    "name": "ipython",
    "version": 3
   },
   "file_extension": ".py",
   "mimetype": "text/x-python",
   "name": "python",
   "nbconvert_exporter": "python",
   "pygments_lexer": "ipython3",
   "version": "3.6.1"
  }
 },
 "nbformat": 4,
 "nbformat_minor": 2
}
